{
  "nbformat": 4,
  "nbformat_minor": 0,
  "metadata": {
    "colab": {
      "name": "financial_tabel_extraction_v2.ipynb",
      "provenance": [],
      "collapsed_sections": [
        "7IRO2NR9OYQ8"
      ],
      "toc_visible": true,
      "machine_shape": "hm"
    },
    "kernelspec": {
      "name": "python3",
      "display_name": "Python 3"
    },
    "accelerator": "GPU"
  },
  "cells": [
    {
      "cell_type": "markdown",
      "metadata": {
        "id": "eM4-GLQWYQai"
      },
      "source": [
        "## Environment Setting"
      ]
    },
    {
      "cell_type": "code",
      "metadata": {
        "id": "-4yIc6hYWVsi",
        "colab": {
          "base_uri": "https://localhost:8080/"
        },
        "outputId": "90a0b361-2ecd-4fce-938d-03a6f12d9bba"
      },
      "source": [
        "# install dependencies: \n",
        "!pip install pyyaml==3.12 pycocotools>=2.0.1\n",
        "import torch, torchvision\n",
        "print(torch.__version__, torch.cuda.is_available())\n",
        "!gcc --version\n",
        "# opencv is pre-installed on colab"
      ],
      "execution_count": 1,
      "outputs": [
        {
          "output_type": "stream",
          "text": [
            "1.8.1+cu101 True\n",
            "gcc (Ubuntu 7.5.0-3ubuntu1~18.04) 7.5.0\n",
            "Copyright (C) 2017 Free Software Foundation, Inc.\n",
            "This is free software; see the source for copying conditions.  There is NO\n",
            "warranty; not even for MERCHANTABILITY or FITNESS FOR A PARTICULAR PURPOSE.\n",
            "\n"
          ],
          "name": "stdout"
        }
      ]
    },
    {
      "cell_type": "code",
      "metadata": {
        "id": "FqImcGX5CTl8",
        "colab": {
          "base_uri": "https://localhost:8080/",
          "height": 0
        },
        "outputId": "0870dcde-2a48-4a6e-d2e6-1b026b8abfd9"
      },
      "source": [
        "# After running this module, it is essential to running all modules again to successfully install the detectron libraries\n",
        "!pip install detectron2 -f https://dl.fbaipublicfiles.com/detectron2/wheels/cu101/torch1.6/index.html\n",
        "torch.__version__"
      ],
      "execution_count": 2,
      "outputs": [
        {
          "output_type": "stream",
          "text": [
            "Looking in links: https://dl.fbaipublicfiles.com/detectron2/wheels/cu101/torch1.6/index.html\n",
            "Collecting detectron2\n",
            "\u001b[?25l  Downloading https://dl.fbaipublicfiles.com/detectron2/wheels/cu101/torch1.6/detectron2-0.4%2Bcu101-cp37-cp37m-linux_x86_64.whl (5.6MB)\n",
            "\u001b[K     |████████████████████████████████| 5.7MB 615kB/s \n",
            "\u001b[?25hRequirement already satisfied: matplotlib in /usr/local/lib/python3.7/dist-packages (from detectron2) (3.2.2)\n",
            "Requirement already satisfied: tqdm>4.29.0 in /usr/local/lib/python3.7/dist-packages (from detectron2) (4.41.1)\n",
            "Requirement already satisfied: termcolor>=1.1 in /usr/local/lib/python3.7/dist-packages (from detectron2) (1.1.0)\n",
            "Requirement already satisfied: tensorboard in /usr/local/lib/python3.7/dist-packages (from detectron2) (2.4.1)\n",
            "Requirement already satisfied: future in /usr/local/lib/python3.7/dist-packages (from detectron2) (0.16.0)\n",
            "Requirement already satisfied: pycocotools>=2.0.2 in /usr/local/lib/python3.7/dist-packages (from detectron2) (2.0.2)\n",
            "Requirement already satisfied: cloudpickle in /usr/local/lib/python3.7/dist-packages (from detectron2) (1.3.0)\n",
            "Collecting fvcore<0.1.4,>=0.1.3\n",
            "\u001b[?25l  Downloading https://files.pythonhosted.org/packages/6b/68/2bacb80e13c4084dfc37fec8f17706a1de4c248157561ff33e463399c4f5/fvcore-0.1.3.post20210317.tar.gz (47kB)\n",
            "\u001b[K     |████████████████████████████████| 51kB 2.7MB/s \n",
            "\u001b[?25hCollecting omegaconf>=2\n",
            "  Downloading https://files.pythonhosted.org/packages/d0/eb/9d63ce09dd8aa85767c65668d5414958ea29648a0eec80a4a7d311ec2684/omegaconf-2.0.6-py3-none-any.whl\n",
            "Collecting iopath>=0.1.2\n",
            "  Downloading https://files.pythonhosted.org/packages/21/d0/22104caed16fa41382702fed959f4a9b088b2f905e7a82e4483180a2ec2a/iopath-0.1.8-py3-none-any.whl\n",
            "Requirement already satisfied: Pillow>=7.1 in /usr/local/lib/python3.7/dist-packages (from detectron2) (7.1.2)\n",
            "Collecting yacs>=0.1.6\n",
            "  Downloading https://files.pythonhosted.org/packages/38/4f/fe9a4d472aa867878ce3bb7efb16654c5d63672b86dc0e6e953a67018433/yacs-0.1.8-py3-none-any.whl\n",
            "Requirement already satisfied: pydot in /usr/local/lib/python3.7/dist-packages (from detectron2) (1.3.0)\n",
            "Requirement already satisfied: tabulate in /usr/local/lib/python3.7/dist-packages (from detectron2) (0.8.9)\n",
            "Requirement already satisfied: cycler>=0.10 in /usr/local/lib/python3.7/dist-packages (from matplotlib->detectron2) (0.10.0)\n",
            "Requirement already satisfied: kiwisolver>=1.0.1 in /usr/local/lib/python3.7/dist-packages (from matplotlib->detectron2) (1.3.1)\n",
            "Requirement already satisfied: python-dateutil>=2.1 in /usr/local/lib/python3.7/dist-packages (from matplotlib->detectron2) (2.8.1)\n",
            "Requirement already satisfied: pyparsing!=2.0.4,!=2.1.2,!=2.1.6,>=2.0.1 in /usr/local/lib/python3.7/dist-packages (from matplotlib->detectron2) (2.4.7)\n",
            "Requirement already satisfied: numpy>=1.11 in /usr/local/lib/python3.7/dist-packages (from matplotlib->detectron2) (1.19.5)\n",
            "Requirement already satisfied: tensorboard-plugin-wit>=1.6.0 in /usr/local/lib/python3.7/dist-packages (from tensorboard->detectron2) (1.8.0)\n",
            "Requirement already satisfied: wheel>=0.26; python_version >= \"3\" in /usr/local/lib/python3.7/dist-packages (from tensorboard->detectron2) (0.36.2)\n",
            "Requirement already satisfied: google-auth-oauthlib<0.5,>=0.4.1 in /usr/local/lib/python3.7/dist-packages (from tensorboard->detectron2) (0.4.4)\n",
            "Requirement already satisfied: markdown>=2.6.8 in /usr/local/lib/python3.7/dist-packages (from tensorboard->detectron2) (3.3.4)\n",
            "Requirement already satisfied: absl-py>=0.4 in /usr/local/lib/python3.7/dist-packages (from tensorboard->detectron2) (0.12.0)\n",
            "Requirement already satisfied: six>=1.10.0 in /usr/local/lib/python3.7/dist-packages (from tensorboard->detectron2) (1.15.0)\n",
            "Requirement already satisfied: grpcio>=1.24.3 in /usr/local/lib/python3.7/dist-packages (from tensorboard->detectron2) (1.32.0)\n",
            "Requirement already satisfied: google-auth<2,>=1.6.3 in /usr/local/lib/python3.7/dist-packages (from tensorboard->detectron2) (1.28.1)\n",
            "Requirement already satisfied: requests<3,>=2.21.0 in /usr/local/lib/python3.7/dist-packages (from tensorboard->detectron2) (2.23.0)\n",
            "Requirement already satisfied: werkzeug>=0.11.15 in /usr/local/lib/python3.7/dist-packages (from tensorboard->detectron2) (1.0.1)\n",
            "Requirement already satisfied: protobuf>=3.6.0 in /usr/local/lib/python3.7/dist-packages (from tensorboard->detectron2) (3.12.4)\n",
            "Requirement already satisfied: setuptools>=41.0.0 in /usr/local/lib/python3.7/dist-packages (from tensorboard->detectron2) (54.2.0)\n",
            "Requirement already satisfied: cython>=0.27.3 in /usr/local/lib/python3.7/dist-packages (from pycocotools>=2.0.2->detectron2) (0.29.22)\n",
            "Collecting pyyaml>=5.1\n",
            "\u001b[?25l  Downloading https://files.pythonhosted.org/packages/7a/a5/393c087efdc78091afa2af9f1378762f9821c9c1d7a22c5753fb5ac5f97a/PyYAML-5.4.1-cp37-cp37m-manylinux1_x86_64.whl (636kB)\n",
            "\u001b[K     |████████████████████████████████| 645kB 7.5MB/s \n",
            "\u001b[?25hRequirement already satisfied: typing-extensions in /usr/local/lib/python3.7/dist-packages (from omegaconf>=2->detectron2) (3.7.4.3)\n",
            "Collecting portalocker\n",
            "  Downloading https://files.pythonhosted.org/packages/68/33/cb524f4de298509927b90aa5ee34767b9a2b93e663cf354b2a3efa2b4acd/portalocker-2.3.0-py2.py3-none-any.whl\n",
            "Requirement already satisfied: requests-oauthlib>=0.7.0 in /usr/local/lib/python3.7/dist-packages (from google-auth-oauthlib<0.5,>=0.4.1->tensorboard->detectron2) (1.3.0)\n",
            "Requirement already satisfied: importlib-metadata; python_version < \"3.8\" in /usr/local/lib/python3.7/dist-packages (from markdown>=2.6.8->tensorboard->detectron2) (3.10.1)\n",
            "Requirement already satisfied: rsa<5,>=3.1.4; python_version >= \"3.6\" in /usr/local/lib/python3.7/dist-packages (from google-auth<2,>=1.6.3->tensorboard->detectron2) (4.7.2)\n",
            "Requirement already satisfied: pyasn1-modules>=0.2.1 in /usr/local/lib/python3.7/dist-packages (from google-auth<2,>=1.6.3->tensorboard->detectron2) (0.2.8)\n",
            "Requirement already satisfied: cachetools<5.0,>=2.0.0 in /usr/local/lib/python3.7/dist-packages (from google-auth<2,>=1.6.3->tensorboard->detectron2) (4.2.1)\n",
            "Requirement already satisfied: chardet<4,>=3.0.2 in /usr/local/lib/python3.7/dist-packages (from requests<3,>=2.21.0->tensorboard->detectron2) (3.0.4)\n",
            "Requirement already satisfied: idna<3,>=2.5 in /usr/local/lib/python3.7/dist-packages (from requests<3,>=2.21.0->tensorboard->detectron2) (2.10)\n",
            "Requirement already satisfied: certifi>=2017.4.17 in /usr/local/lib/python3.7/dist-packages (from requests<3,>=2.21.0->tensorboard->detectron2) (2020.12.5)\n",
            "Requirement already satisfied: urllib3!=1.25.0,!=1.25.1,<1.26,>=1.21.1 in /usr/local/lib/python3.7/dist-packages (from requests<3,>=2.21.0->tensorboard->detectron2) (1.24.3)\n",
            "Requirement already satisfied: oauthlib>=3.0.0 in /usr/local/lib/python3.7/dist-packages (from requests-oauthlib>=0.7.0->google-auth-oauthlib<0.5,>=0.4.1->tensorboard->detectron2) (3.1.0)\n",
            "Requirement already satisfied: zipp>=0.5 in /usr/local/lib/python3.7/dist-packages (from importlib-metadata; python_version < \"3.8\"->markdown>=2.6.8->tensorboard->detectron2) (3.4.1)\n",
            "Requirement already satisfied: pyasn1>=0.1.3 in /usr/local/lib/python3.7/dist-packages (from rsa<5,>=3.1.4; python_version >= \"3.6\"->google-auth<2,>=1.6.3->tensorboard->detectron2) (0.4.8)\n",
            "Building wheels for collected packages: fvcore\n",
            "  Building wheel for fvcore (setup.py) ... \u001b[?25l\u001b[?25hdone\n",
            "  Created wheel for fvcore: filename=fvcore-0.1.3.post20210317-cp37-none-any.whl size=58543 sha256=b337b85efc6b8fd70ccced4d59f4376af59895168932f94ba657019b1f0edc36\n",
            "  Stored in directory: /root/.cache/pip/wheels/d2/ee/3a/5c531df777c03d8c67f22c65f97d6f75321087482d05a9b218\n",
            "Successfully built fvcore\n",
            "Installing collected packages: pyyaml, yacs, portalocker, iopath, fvcore, omegaconf, detectron2\n",
            "  Found existing installation: PyYAML 3.12\n",
            "    Uninstalling PyYAML-3.12:\n",
            "      Successfully uninstalled PyYAML-3.12\n",
            "Successfully installed detectron2-0.4+cu101 fvcore-0.1.3.post20210317 iopath-0.1.8 omegaconf-2.0.6 portalocker-2.3.0 pyyaml-5.4.1 yacs-0.1.8\n"
          ],
          "name": "stdout"
        },
        {
          "output_type": "execute_result",
          "data": {
            "application/vnd.google.colaboratory.intrinsic+json": {
              "type": "string"
            },
            "text/plain": [
              "'1.8.1+cu101'"
            ]
          },
          "metadata": {
            "tags": []
          },
          "execution_count": 2
        }
      ]
    },
    {
      "cell_type": "code",
      "metadata": {
        "id": "YVLVYN8hCaE4",
        "colab": {
          "base_uri": "https://localhost:8080/"
        },
        "outputId": "6659229d-f45f-431a-813b-077830f64b81"
      },
      "source": [
        "# Clone Detectron and PubLayNet tools from created Github\n",
        "! git clone https://github.com/Dean930610/Detectron_Publayout.git"
      ],
      "execution_count": 3,
      "outputs": [
        {
          "output_type": "stream",
          "text": [
            "Cloning into 'Detectron_Publayout'...\n",
            "remote: Enumerating objects: 1493, done.\u001b[K\n",
            "remote: Counting objects: 100% (31/31), done.\u001b[K\n",
            "remote: Compressing objects: 100% (31/31), done.\u001b[K\n",
            "remote: Total 1493 (delta 13), reused 0 (delta 0), pack-reused 1462\u001b[K\n",
            "Receiving objects: 100% (1493/1493), 34.80 MiB | 40.41 MiB/s, done.\n",
            "Resolving deltas: 100% (869/869), done.\n"
          ],
          "name": "stdout"
        }
      ]
    },
    {
      "cell_type": "code",
      "metadata": {
        "id": "8badlcVnjzdL",
        "colab": {
          "base_uri": "https://localhost:8080/"
        },
        "outputId": "7f731c6e-8f8e-4e1b-de11-242ff8c9560f"
      },
      "source": [
        "# Clone Essential Tools for preprocessing pdf files and json files\n",
        "! git clone https://github.com/yihaoding/table_extraction.git"
      ],
      "execution_count": 4,
      "outputs": [
        {
          "output_type": "stream",
          "text": [
            "Cloning into 'table_extraction'...\n",
            "remote: Enumerating objects: 77, done.\u001b[K\n",
            "remote: Counting objects: 100% (77/77), done.\u001b[K\n",
            "remote: Compressing objects: 100% (64/64), done.\u001b[K\n",
            "remote: Total 77 (delta 24), reused 0 (delta 0), pack-reused 0\u001b[K\n",
            "Unpacking objects: 100% (77/77), done.\n"
          ],
          "name": "stdout"
        }
      ]
    },
    {
      "cell_type": "code",
      "metadata": {
        "colab": {
          "base_uri": "https://localhost:8080/"
        },
        "id": "oC6xkd77erDA",
        "outputId": "a1d027d0-5ae2-4283-9903-cad8dcf4bcf0"
      },
      "source": [
        "!pip install PyMuPDF\n",
        "from table_extraction.tools import preprocessing"
      ],
      "execution_count": 5,
      "outputs": [
        {
          "output_type": "stream",
          "text": [
            "Collecting PyMuPDF\n",
            "\u001b[?25l  Downloading https://files.pythonhosted.org/packages/3a/f4/3dfa60b77d8b2060c524958780fd085ef2ae91bfc2ba9a493df7d0abaf84/PyMuPDF-1.18.12-cp37-cp37m-manylinux2010_x86_64.whl (6.4MB)\n",
            "\u001b[K     |████████████████████████████████| 6.4MB 5.1MB/s \n",
            "\u001b[?25hInstalling collected packages: PyMuPDF\n",
            "Successfully installed PyMuPDF-1.18.12\n"
          ],
          "name": "stdout"
        }
      ]
    },
    {
      "cell_type": "code",
      "metadata": {
        "id": "wcqkmQAEfv97"
      },
      "source": [
        "import os\n",
        "import json"
      ],
      "execution_count": 6,
      "outputs": []
    },
    {
      "cell_type": "markdown",
      "metadata": {
        "id": "PdACXqB8fJqh"
      },
      "source": [
        "## Preprocessing"
      ]
    },
    {
      "cell_type": "code",
      "metadata": {
        "id": "U8uMMR4hfhgV"
      },
      "source": [
        "!mkdir /content/images"
      ],
      "execution_count": 7,
      "outputs": []
    },
    {
      "cell_type": "code",
      "metadata": {
        "id": "C90VQjk4fNDc"
      },
      "source": [
        "pdfPath = '/content/table_extraction/samples'\n",
        "imagePath = '/content/images'\n",
        "count = 0\n",
        "for name in os.listdir(pdfPath):\n",
        "  if name[-4:]=='.pdf':\n",
        "    count = preprocessing.pyMuPDF_fitz(os.path.join(pdfPath,name), imagePath, count)"
      ],
      "execution_count": 8,
      "outputs": []
    },
    {
      "cell_type": "code",
      "metadata": {
        "id": "QilLGTG0h6ZJ"
      },
      "source": [
        "preprocessing.coco_test_json_generator('/content/images','/content','/content/Detectron_Publayout/detectron/datasets/data/test.json')"
      ],
      "execution_count": 26,
      "outputs": []
    },
    {
      "cell_type": "markdown",
      "metadata": {
        "id": "Czrf41UyY8bd"
      },
      "source": [
        "## Acquire the pre-trained model by PubLayNet"
      ]
    },
    {
      "cell_type": "code",
      "metadata": {
        "id": "rXUJxlg1ZlfX"
      },
      "source": [
        "# Code to download Pub\n",
        "!pip install -U -q PyDrive\n",
        "from pydrive.auth import GoogleAuth\n",
        "from pydrive.drive import GoogleDrive\n",
        "from google.colab import auth\n",
        "from oauth2client.client import GoogleCredentials\n",
        "# Authenticate and create the PyDrive client.\n",
        "auth.authenticate_user()\n",
        "gauth = GoogleAuth()\n",
        "gauth.credentials = GoogleCredentials.get_application_default()\n",
        "drive = GoogleDrive(gauth)\n",
        "\n",
        "# Mask-RCNN model\n",
        "id = '1aKWqLAIMRDEq5lERVY_s_uVw5W1984z1'\n",
        "downloaded = drive.CreateFile({'id':id}) \n",
        "downloaded.GetContentFile('final_model.pkl')  "
      ],
      "execution_count": 10,
      "outputs": []
    },
    {
      "cell_type": "markdown",
      "metadata": {
        "id": "jk6AzZ0jZM6s"
      },
      "source": [
        "## Essential Liraries installing"
      ]
    },
    {
      "cell_type": "code",
      "metadata": {
        "id": "SD9YikD_CibV",
        "colab": {
          "base_uri": "https://localhost:8080/",
          "height": 399
        },
        "outputId": "52b943c5-b924-4c33-f224-6cea895caa02"
      },
      "source": [
        "import sys\n",
        "import requests\n",
        "import tarfile\n",
        "import json\n",
        "import numpy as np\n",
        "from os import path\n",
        "from PIL import Image\n",
        "from PIL import ImageFont, ImageDraw\n",
        "from glob import glob\n",
        "from matplotlib import pyplot as plt\n",
        "%matplotlib inline\n",
        "!nvidia-smi\n",
        "import tensorflow as tf\n",
        "tf.test.gpu_device_name()\n",
        "# Standard output is '/device:GPU:0'"
      ],
      "execution_count": 11,
      "outputs": [
        {
          "output_type": "stream",
          "text": [
            "Tue Apr 20 04:13:30 2021       \n",
            "+-----------------------------------------------------------------------------+\n",
            "| NVIDIA-SMI 460.67       Driver Version: 460.32.03    CUDA Version: 11.2     |\n",
            "|-------------------------------+----------------------+----------------------+\n",
            "| GPU  Name        Persistence-M| Bus-Id        Disp.A | Volatile Uncorr. ECC |\n",
            "| Fan  Temp  Perf  Pwr:Usage/Cap|         Memory-Usage | GPU-Util  Compute M. |\n",
            "|                               |                      |               MIG M. |\n",
            "|===============================+======================+======================|\n",
            "|   0  Tesla P100-PCIE...  Off  | 00000000:00:04.0 Off |                    0 |\n",
            "| N/A   46C    P0    28W / 250W |      2MiB / 16280MiB |      0%      Default |\n",
            "|                               |                      |                  N/A |\n",
            "+-------------------------------+----------------------+----------------------+\n",
            "                                                                               \n",
            "+-----------------------------------------------------------------------------+\n",
            "| Processes:                                                                  |\n",
            "|  GPU   GI   CI        PID   Type   Process name                  GPU Memory |\n",
            "|        ID   ID                                                   Usage      |\n",
            "|=============================================================================|\n",
            "|  No running processes found                                                 |\n",
            "+-----------------------------------------------------------------------------+\n"
          ],
          "name": "stdout"
        },
        {
          "output_type": "execute_result",
          "data": {
            "application/vnd.google.colaboratory.intrinsic+json": {
              "type": "string"
            },
            "text/plain": [
              "'/device:GPU:0'"
            ]
          },
          "metadata": {
            "tags": []
          },
          "execution_count": 11
        }
      ]
    },
    {
      "cell_type": "code",
      "metadata": {
        "id": "UYXrI2g0YtXd",
        "colab": {
          "base_uri": "https://localhost:8080/",
          "height": 1000
        },
        "outputId": "985295b4-3278-4152-8291-4eb45c2d83d5"
      },
      "source": [
        "# Detectron Installing\n",
        "! Clone Detectron properties\n",
        "! git clone https://github.com/Dean930610/Detectron_Publayout.git\n",
        "! pip install -r /content/Detectron_Publayout/requirements.txt\n",
        "! cd /content/Detectron_Publayout && make"
      ],
      "execution_count": 12,
      "outputs": [
        {
          "output_type": "stream",
          "text": [
            "/bin/bash: Clone: command not found\n",
            "fatal: destination path 'Detectron_Publayout' already exists and is not an empty directory.\n",
            "Requirement already satisfied: numpy>=1.13 in /usr/local/lib/python3.7/dist-packages (from -r /content/Detectron_Publayout/requirements.txt (line 1)) (1.19.5)\n",
            "Processing /root/.cache/pip/wheels/03/05/65/bdc14f2c6e09e82ae3e0f13d021e1b6b2481437ea2f207df3f/PyYAML-3.12-cp37-cp37m-linux_x86_64.whl\n",
            "Requirement already satisfied: matplotlib in /usr/local/lib/python3.7/dist-packages (from -r /content/Detectron_Publayout/requirements.txt (line 3)) (3.2.2)\n",
            "Requirement already satisfied: opencv-python>=3.2 in /usr/local/lib/python3.7/dist-packages (from -r /content/Detectron_Publayout/requirements.txt (line 4)) (4.1.2.30)\n",
            "Requirement already satisfied: setuptools in /usr/local/lib/python3.7/dist-packages (from -r /content/Detectron_Publayout/requirements.txt (line 5)) (54.2.0)\n",
            "Requirement already satisfied: Cython in /usr/local/lib/python3.7/dist-packages (from -r /content/Detectron_Publayout/requirements.txt (line 6)) (0.29.22)\n",
            "Collecting mock\n",
            "  Downloading https://files.pythonhosted.org/packages/5c/03/b7e605db4a57c0f6fba744b11ef3ddf4ddebcada35022927a2b5fc623fdf/mock-4.0.3-py3-none-any.whl\n",
            "Requirement already satisfied: scipy in /usr/local/lib/python3.7/dist-packages (from -r /content/Detectron_Publayout/requirements.txt (line 8)) (1.4.1)\n",
            "Requirement already satisfied: six in /usr/local/lib/python3.7/dist-packages (from -r /content/Detectron_Publayout/requirements.txt (line 9)) (1.15.0)\n",
            "Requirement already satisfied: future in /usr/local/lib/python3.7/dist-packages (from -r /content/Detectron_Publayout/requirements.txt (line 10)) (0.16.0)\n",
            "Requirement already satisfied: protobuf in /usr/local/lib/python3.7/dist-packages (from -r /content/Detectron_Publayout/requirements.txt (line 11)) (3.12.4)\n",
            "Requirement already satisfied: pyparsing!=2.0.4,!=2.1.2,!=2.1.6,>=2.0.1 in /usr/local/lib/python3.7/dist-packages (from matplotlib->-r /content/Detectron_Publayout/requirements.txt (line 3)) (2.4.7)\n",
            "Requirement already satisfied: cycler>=0.10 in /usr/local/lib/python3.7/dist-packages (from matplotlib->-r /content/Detectron_Publayout/requirements.txt (line 3)) (0.10.0)\n",
            "Requirement already satisfied: python-dateutil>=2.1 in /usr/local/lib/python3.7/dist-packages (from matplotlib->-r /content/Detectron_Publayout/requirements.txt (line 3)) (2.8.1)\n",
            "Requirement already satisfied: kiwisolver>=1.0.1 in /usr/local/lib/python3.7/dist-packages (from matplotlib->-r /content/Detectron_Publayout/requirements.txt (line 3)) (1.3.1)\n",
            "\u001b[31mERROR: omegaconf 2.0.6 has requirement PyYAML>=5.1.*, but you'll have pyyaml 3.12 which is incompatible.\u001b[0m\n",
            "\u001b[31mERROR: fvcore 0.1.3.post20210317 has requirement pyyaml>=5.1, but you'll have pyyaml 3.12 which is incompatible.\u001b[0m\n",
            "Installing collected packages: pyyaml, mock\n",
            "  Found existing installation: PyYAML 5.4.1\n",
            "    Uninstalling PyYAML-5.4.1:\n",
            "      Successfully uninstalled PyYAML-5.4.1\n",
            "Successfully installed mock-4.0.3 pyyaml-3.12\n"
          ],
          "name": "stdout"
        },
        {
          "output_type": "display_data",
          "data": {
            "application/vnd.colab-display-data+json": {
              "pip_warning": {
                "packages": [
                  "yaml"
                ]
              }
            }
          },
          "metadata": {
            "tags": []
          }
        },
        {
          "output_type": "stream",
          "text": [
            "python setup.py develop --user\n",
            "Compiling detectron/utils/cython_bbox.pyx because it changed.\n",
            "Compiling detectron/utils/cython_nms.pyx because it changed.\n",
            "[1/2] Cythonizing detectron/utils/cython_bbox.pyx\n",
            "/usr/local/lib/python3.7/dist-packages/Cython/Compiler/Main.py:369: FutureWarning: Cython directive 'language_level' not set, using 2 for now (Py2). This will change in a later release! File: /content/Detectron_Publayout/detectron/utils/cython_bbox.pyx\n",
            "  tree = Parsing.p_module(s, pxd, full_module_name)\n",
            "[2/2] Cythonizing detectron/utils/cython_nms.pyx\n",
            "/usr/local/lib/python3.7/dist-packages/Cython/Compiler/Main.py:369: FutureWarning: Cython directive 'language_level' not set, using 2 for now (Py2). This will change in a later release! File: /content/Detectron_Publayout/detectron/utils/cython_nms.pyx\n",
            "  tree = Parsing.p_module(s, pxd, full_module_name)\n",
            "running develop\n",
            "running egg_info\n",
            "creating Detectron.egg-info\n",
            "writing Detectron.egg-info/PKG-INFO\n",
            "writing dependency_links to Detectron.egg-info/dependency_links.txt\n",
            "writing top-level names to Detectron.egg-info/top_level.txt\n",
            "writing manifest file 'Detectron.egg-info/SOURCES.txt'\n",
            "writing manifest file 'Detectron.egg-info/SOURCES.txt'\n",
            "running build_ext\n",
            "building 'detectron.utils.cython_bbox' extension\n",
            "creating build\n",
            "creating build/temp.linux-x86_64-3.7\n",
            "creating build/temp.linux-x86_64-3.7/detectron\n",
            "creating build/temp.linux-x86_64-3.7/detectron/utils\n",
            "x86_64-linux-gnu-gcc -pthread -Wno-unused-result -Wsign-compare -DNDEBUG -g -fwrapv -O2 -Wall -g -fdebug-prefix-map=/build/python3.7-a56wZI/python3.7-3.7.10=. -fstack-protector-strong -Wformat -Werror=format-security -g -fdebug-prefix-map=/build/python3.7-a56wZI/python3.7-3.7.10=. -fstack-protector-strong -Wformat -Werror=format-security -Wdate-time -D_FORTIFY_SOURCE=2 -fPIC -I/usr/local/lib/python3.7/dist-packages/numpy/core/include -I/usr/include/python3.7m -c detectron/utils/cython_bbox.c -o build/temp.linux-x86_64-3.7/detectron/utils/cython_bbox.o -Wno-cpp\n",
            "creating build/lib.linux-x86_64-3.7\n",
            "creating build/lib.linux-x86_64-3.7/detectron\n",
            "creating build/lib.linux-x86_64-3.7/detectron/utils\n",
            "x86_64-linux-gnu-gcc -pthread -shared -Wl,-O1 -Wl,-Bsymbolic-functions -Wl,-Bsymbolic-functions -Wl,-z,relro -Wl,-Bsymbolic-functions -Wl,-z,relro -g -fdebug-prefix-map=/build/python3.7-a56wZI/python3.7-3.7.10=. -fstack-protector-strong -Wformat -Werror=format-security -Wdate-time -D_FORTIFY_SOURCE=2 build/temp.linux-x86_64-3.7/detectron/utils/cython_bbox.o -o build/lib.linux-x86_64-3.7/detectron/utils/cython_bbox.cpython-37m-x86_64-linux-gnu.so\n",
            "building 'detectron.utils.cython_nms' extension\n",
            "x86_64-linux-gnu-gcc -pthread -Wno-unused-result -Wsign-compare -DNDEBUG -g -fwrapv -O2 -Wall -g -fdebug-prefix-map=/build/python3.7-a56wZI/python3.7-3.7.10=. -fstack-protector-strong -Wformat -Werror=format-security -g -fdebug-prefix-map=/build/python3.7-a56wZI/python3.7-3.7.10=. -fstack-protector-strong -Wformat -Werror=format-security -Wdate-time -D_FORTIFY_SOURCE=2 -fPIC -I/usr/local/lib/python3.7/dist-packages/numpy/core/include -I/usr/include/python3.7m -c detectron/utils/cython_nms.c -o build/temp.linux-x86_64-3.7/detectron/utils/cython_nms.o -Wno-cpp\n",
            "\u001b[01m\u001b[Kdetectron/utils/cython_nms.c:\u001b[m\u001b[K In function ‘\u001b[01m\u001b[K__pyx_pf_9detectron_5utils_10cython_nms_2soft_nms\u001b[m\u001b[K’:\n",
            "\u001b[01m\u001b[Kdetectron/utils/cython_nms.c:3368:34:\u001b[m\u001b[K \u001b[01;35m\u001b[Kwarning: \u001b[m\u001b[Kcomparison between signed and unsigned integer expressions [\u001b[01;35m\u001b[K-Wsign-compare\u001b[m\u001b[K]\n",
            "       __pyx_t_10 = ((__pyx_v_pos \u001b[01;35m\u001b[K<\u001b[m\u001b[K __pyx_v_N) != 0);\n",
            "                                  \u001b[01;35m\u001b[K^\u001b[m\u001b[K\n",
            "\u001b[01m\u001b[Kdetectron/utils/cython_nms.c:3879:34:\u001b[m\u001b[K \u001b[01;35m\u001b[Kwarning: \u001b[m\u001b[Kcomparison between signed and unsigned integer expressions [\u001b[01;35m\u001b[K-Wsign-compare\u001b[m\u001b[K]\n",
            "       __pyx_t_10 = ((__pyx_v_pos \u001b[01;35m\u001b[K<\u001b[m\u001b[K __pyx_v_N) != 0);\n",
            "                                  \u001b[01;35m\u001b[K^\u001b[m\u001b[K\n",
            "x86_64-linux-gnu-gcc -pthread -shared -Wl,-O1 -Wl,-Bsymbolic-functions -Wl,-Bsymbolic-functions -Wl,-z,relro -Wl,-Bsymbolic-functions -Wl,-z,relro -g -fdebug-prefix-map=/build/python3.7-a56wZI/python3.7-3.7.10=. -fstack-protector-strong -Wformat -Werror=format-security -Wdate-time -D_FORTIFY_SOURCE=2 build/temp.linux-x86_64-3.7/detectron/utils/cython_nms.o -o build/lib.linux-x86_64-3.7/detectron/utils/cython_nms.cpython-37m-x86_64-linux-gnu.so\n",
            "copying build/lib.linux-x86_64-3.7/detectron/utils/cython_bbox.cpython-37m-x86_64-linux-gnu.so -> detectron/utils\n",
            "copying build/lib.linux-x86_64-3.7/detectron/utils/cython_nms.cpython-37m-x86_64-linux-gnu.so -> detectron/utils\n",
            "Creating /root/.local/lib/python3.7/site-packages/Detectron.egg-link (link to .)\n",
            "Adding Detectron 0.0.0 to easy-install.pth file\n",
            "\n",
            "Installed /content/Detectron_Publayout\n",
            "Processing dependencies for Detectron==0.0.0\n",
            "Finished processing dependencies for Detectron==0.0.0\n"
          ],
          "name": "stdout"
        }
      ]
    },
    {
      "cell_type": "markdown",
      "metadata": {
        "id": "YQSb_64HOI2O"
      },
      "source": [
        "# Generate Json File for Competition Submission\n"
      ]
    },
    {
      "cell_type": "markdown",
      "metadata": {
        "id": "UVA6a0eXxBwo"
      },
      "source": [
        "### Move test dataset and json file to Detectron testing Dataset file"
      ]
    },
    {
      "cell_type": "code",
      "metadata": {
        "id": "sNdZtoVRhGw5"
      },
      "source": [
        "!mkdir /content/Detectron_Publayout/detectron/datasets/data/test"
      ],
      "execution_count": 21,
      "outputs": []
    },
    {
      "cell_type": "code",
      "metadata": {
        "id": "m_xhUNbaDqD-"
      },
      "source": [
        "# move test images to \n",
        "!cp -ri /content/images/* /content/Detectron_Publayout/detectron/datasets/data/test/"
      ],
      "execution_count": 22,
      "outputs": []
    },
    {
      "cell_type": "code",
      "metadata": {
        "id": "-iHj4TVdh_Go"
      },
      "source": [
        "!rm /content/Detectron_Publayout/detectron/datasets/data/test.json"
      ],
      "execution_count": 29,
      "outputs": []
    },
    {
      "cell_type": "code",
      "metadata": {
        "id": "SqptbbVFFIdY"
      },
      "source": [
        "!mv /content/test.json /content/Detectron_Publayout/detectron/datasets/data"
      ],
      "execution_count": 30,
      "outputs": []
    },
    {
      "cell_type": "code",
      "metadata": {
        "id": "0Aw1BBjQQYqe",
        "colab": {
          "base_uri": "https://localhost:8080/"
        },
        "outputId": "02766527-00a3-4075-d6d9-de065132665f"
      },
      "source": [
        "! cd /content/Detectron_Publayout;python /content/Detectron_Publayout/tools/test_net.py \\\n",
        "    --cfg /content/Detectron_Publayout/PubLayNet/PubLayNet-master/pre-trained-models/Mask-RCNN/e2e_mask_rcnn_X-101-64x4d-FPN_1x.yaml \\\n",
        "    TEST.WEIGHTS /content/final_model.pkl \\"
      ],
      "execution_count": 31,
      "outputs": [
        {
          "output_type": "stream",
          "text": [
            "Found Detectron ops lib: /usr/local/lib/python3.7/dist-packages/torch/lib/libcaffe2_detectron_ops_gpu.so\n",
            "[E init_intrinsics_check.cc:43] CPU feature avx is present on your machine, but the Caffe2 binary is not compiled with it. It means you may not get the full speed of your CPU.\n",
            "[E init_intrinsics_check.cc:43] CPU feature avx2 is present on your machine, but the Caffe2 binary is not compiled with it. It means you may not get the full speed of your CPU.\n",
            "[E init_intrinsics_check.cc:43] CPU feature fma is present on your machine, but the Caffe2 binary is not compiled with it. It means you may not get the full speed of your CPU.\n",
            "INFO test_net.py:  98: Called with args:\n",
            "INFO test_net.py:  99: Namespace(cfg_file='/content/Detectron_Publayout/PubLayNet/PubLayNet-master/pre-trained-models/Mask-RCNN/e2e_mask_rcnn_X-101-64x4d-FPN_1x.yaml', multi_gpu_testing=False, opts=['TEST.WEIGHTS', '/content/final_model.pkl'], range=None, vis=False, wait=True)\n",
            "INFO test_net.py: 105: Testing with config:\n",
            "INFO test_net.py: 106: {'BBOX_XFORM_CLIP': 4.135166556742356,\n",
            " 'CLUSTER': {'ON_CLUSTER': False},\n",
            " 'DATA_LOADER': {'BLOBS_QUEUE_CAPACITY': 8,\n",
            "                 'MINIBATCH_QUEUE_SIZE': 64,\n",
            "                 'NUM_THREADS': 4},\n",
            " 'DEDUP_BOXES': 0.0625,\n",
            " 'DOWNLOAD_CACHE': '/tmp/detectron-download-cache',\n",
            " 'EPS': 1e-14,\n",
            " 'EXPECTED_RESULTS': [],\n",
            " 'EXPECTED_RESULTS_ATOL': 0.005,\n",
            " 'EXPECTED_RESULTS_EMAIL': '',\n",
            " 'EXPECTED_RESULTS_RTOL': 0.1,\n",
            " 'EXPECTED_RESULTS_SIGMA_TOL': 4,\n",
            " 'FAST_RCNN': {'CONV_HEAD_DIM': 256,\n",
            "               'MLP_HEAD_DIM': 1024,\n",
            "               'NUM_STACKED_CONVS': 4,\n",
            "               'ROI_BOX_HEAD': 'fast_rcnn_heads.add_roi_2mlp_head',\n",
            "               'ROI_XFORM_METHOD': 'RoIAlign',\n",
            "               'ROI_XFORM_RESOLUTION': 7,\n",
            "               'ROI_XFORM_SAMPLING_RATIO': 2},\n",
            " 'FPN': {'COARSEST_STRIDE': 32,\n",
            "         'DIM': 256,\n",
            "         'EXTRA_CONV_LEVELS': False,\n",
            "         'FPN_ON': True,\n",
            "         'MULTILEVEL_ROIS': True,\n",
            "         'MULTILEVEL_RPN': True,\n",
            "         'ROI_CANONICAL_LEVEL': 4,\n",
            "         'ROI_CANONICAL_SCALE': 224,\n",
            "         'ROI_MAX_LEVEL': 5,\n",
            "         'ROI_MIN_LEVEL': 2,\n",
            "         'RPN_ANCHOR_START_SIZE': 32,\n",
            "         'RPN_ASPECT_RATIOS': (0.5, 1, 2),\n",
            "         'RPN_MAX_LEVEL': 6,\n",
            "         'RPN_MIN_LEVEL': 2,\n",
            "         'USE_GN': False,\n",
            "         'ZERO_INIT_LATERAL': False},\n",
            " 'GROUP_NORM': {'DIM_PER_GP': -1, 'EPSILON': 1e-05, 'NUM_GROUPS': 32},\n",
            " 'KRCNN': {'CONV_HEAD_DIM': 256,\n",
            "           'CONV_HEAD_KERNEL': 3,\n",
            "           'CONV_INIT': 'GaussianFill',\n",
            "           'DECONV_DIM': 256,\n",
            "           'DECONV_KERNEL': 4,\n",
            "           'DILATION': 1,\n",
            "           'HEATMAP_SIZE': -1,\n",
            "           'INFERENCE_MIN_SIZE': 0,\n",
            "           'KEYPOINT_CONFIDENCE': 'bbox',\n",
            "           'LOSS_WEIGHT': 1.0,\n",
            "           'MIN_KEYPOINT_COUNT_FOR_VALID_MINIBATCH': 20,\n",
            "           'NMS_OKS': False,\n",
            "           'NORMALIZE_BY_VISIBLE_KEYPOINTS': True,\n",
            "           'NUM_KEYPOINTS': -1,\n",
            "           'NUM_STACKED_CONVS': 8,\n",
            "           'ROI_KEYPOINTS_HEAD': '',\n",
            "           'ROI_XFORM_METHOD': 'RoIAlign',\n",
            "           'ROI_XFORM_RESOLUTION': 7,\n",
            "           'ROI_XFORM_SAMPLING_RATIO': 0,\n",
            "           'UP_SCALE': -1,\n",
            "           'USE_DECONV': False,\n",
            "           'USE_DECONV_OUTPUT': False},\n",
            " 'MATLAB': 'matlab',\n",
            " 'MEMONGER': True,\n",
            " 'MEMONGER_SHARE_ACTIVATIONS': False,\n",
            " 'MODEL': {'BBOX_REG_WEIGHTS': (10.0, 10.0, 5.0, 5.0),\n",
            "           'CLS_AGNOSTIC_BBOX_REG': False,\n",
            "           'CONV_BODY': 'FPN.add_fpn_ResNet101_conv5_body',\n",
            "           'EXECUTION_TYPE': 'dag',\n",
            "           'FASTER_RCNN': True,\n",
            "           'KEYPOINTS_ON': False,\n",
            "           'MASK_ON': True,\n",
            "           'NUM_CLASSES': 6,\n",
            "           'RPN_ONLY': False,\n",
            "           'TYPE': 'generalized_rcnn'},\n",
            " 'MRCNN': {'CLS_SPECIFIC_MASK': True,\n",
            "           'CONV_INIT': 'MSRAFill',\n",
            "           'DILATION': 1,\n",
            "           'DIM_REDUCED': 256,\n",
            "           'RESOLUTION': 28,\n",
            "           'ROI_MASK_HEAD': 'mask_rcnn_heads.mask_rcnn_fcn_head_v1up4convs',\n",
            "           'ROI_XFORM_METHOD': 'RoIAlign',\n",
            "           'ROI_XFORM_RESOLUTION': 14,\n",
            "           'ROI_XFORM_SAMPLING_RATIO': 2,\n",
            "           'THRESH_BINARIZE': 0.5,\n",
            "           'UPSAMPLE_RATIO': 1,\n",
            "           'USE_FC_OUTPUT': False,\n",
            "           'WEIGHT_LOSS_MASK': 1.0},\n",
            " 'NUM_GPUS': 8,\n",
            " 'OUTPUT_DIR': '.',\n",
            " 'PIXEL_MEANS': array([[[102.9801, 115.9465, 122.7717]]]),\n",
            " 'RESNETS': {'NUM_GROUPS': 64,\n",
            "             'RES5_DILATION': 1,\n",
            "             'SHORTCUT_FUNC': 'basic_bn_shortcut',\n",
            "             'STEM_FUNC': 'basic_bn_stem',\n",
            "             'STRIDE_1X1': False,\n",
            "             'TRANS_FUNC': 'bottleneck_transformation',\n",
            "             'WIDTH_PER_GROUP': 4},\n",
            " 'RETINANET': {'ANCHOR_SCALE': 4,\n",
            "               'ASPECT_RATIOS': (0.5, 1.0, 2.0),\n",
            "               'BBOX_REG_BETA': 0.11,\n",
            "               'BBOX_REG_WEIGHT': 1.0,\n",
            "               'CLASS_SPECIFIC_BBOX': False,\n",
            "               'INFERENCE_TH': 0.05,\n",
            "               'LOSS_ALPHA': 0.25,\n",
            "               'LOSS_GAMMA': 2.0,\n",
            "               'NEGATIVE_OVERLAP': 0.4,\n",
            "               'NUM_CONVS': 4,\n",
            "               'POSITIVE_OVERLAP': 0.5,\n",
            "               'PRE_NMS_TOP_N': 1000,\n",
            "               'PRIOR_PROB': 0.01,\n",
            "               'RETINANET_ON': False,\n",
            "               'SCALES_PER_OCTAVE': 3,\n",
            "               'SHARE_CLS_BBOX_TOWER': False,\n",
            "               'SOFTMAX': False},\n",
            " 'RFCN': {'PS_GRID_SIZE': 3},\n",
            " 'RNG_SEED': 3,\n",
            " 'ROOT_DIR': '/content/Detectron_Publayout',\n",
            " 'RPN': {'ASPECT_RATIOS': (0.5, 1, 2),\n",
            "         'RPN_ON': True,\n",
            "         'SIZES': (64, 128, 256, 512),\n",
            "         'STRIDE': 16},\n",
            " 'SOLVER': {'BASE_LR': 0.01,\n",
            "            'GAMMA': 0.1,\n",
            "            'LOG_LR_CHANGE_THRESHOLD': 1.1,\n",
            "            'LRS': [],\n",
            "            'LR_POLICY': 'steps_with_decay',\n",
            "            'MAX_ITER': 180000,\n",
            "            'MOMENTUM': 0.9,\n",
            "            'SCALE_MOMENTUM': True,\n",
            "            'SCALE_MOMENTUM_THRESHOLD': 1.1,\n",
            "            'STEPS': [0, 120000, 160000],\n",
            "            'STEP_SIZE': 30000,\n",
            "            'WARM_UP_FACTOR': 0.3333333333333333,\n",
            "            'WARM_UP_ITERS': 500,\n",
            "            'WARM_UP_METHOD': 'linear',\n",
            "            'WEIGHT_DECAY': 0.0001,\n",
            "            'WEIGHT_DECAY_GN': 0.0},\n",
            " 'TEST': {'BBOX_AUG': {'AREA_TH_HI': 32400,\n",
            "                       'AREA_TH_LO': 2500,\n",
            "                       'ASPECT_RATIOS': (),\n",
            "                       'ASPECT_RATIO_H_FLIP': False,\n",
            "                       'COORD_HEUR': 'UNION',\n",
            "                       'ENABLED': False,\n",
            "                       'H_FLIP': False,\n",
            "                       'MAX_SIZE': 4000,\n",
            "                       'SCALES': (),\n",
            "                       'SCALE_H_FLIP': False,\n",
            "                       'SCALE_SIZE_DEP': False,\n",
            "                       'SCORE_HEUR': 'UNION'},\n",
            "          'BBOX_REG': True,\n",
            "          'BBOX_VOTE': {'ENABLED': True,\n",
            "                        'SCORING_METHOD': 'ID',\n",
            "                        'SCORING_METHOD_BETA': 1.0,\n",
            "                        'VOTE_TH': 0.8},\n",
            "          'CLASS_SPECIFIC_AR': False,\n",
            "          'COMPETITION_MODE': True,\n",
            "          'DATASETS': ('coco_2014_val',),\n",
            "          'DETECTIONS_PER_IM': 100,\n",
            "          'FORCE_JSON_DATASET_EVAL': True,\n",
            "          'GENERATE_PROPOSALS_ON_GPU': False,\n",
            "          'KPS_AUG': {'AREA_TH': 32400,\n",
            "                      'ASPECT_RATIOS': (),\n",
            "                      'ASPECT_RATIO_H_FLIP': False,\n",
            "                      'ENABLED': False,\n",
            "                      'HEUR': 'HM_AVG',\n",
            "                      'H_FLIP': False,\n",
            "                      'MAX_SIZE': 4000,\n",
            "                      'SCALES': (),\n",
            "                      'SCALE_H_FLIP': False,\n",
            "                      'SCALE_SIZE_DEP': False},\n",
            "          'MASK_AUG': {'AREA_TH': 32400,\n",
            "                       'ASPECT_RATIOS': (),\n",
            "                       'ASPECT_RATIO_H_FLIP': False,\n",
            "                       'ENABLED': False,\n",
            "                       'HEUR': 'SOFT_AVG',\n",
            "                       'H_FLIP': False,\n",
            "                       'MAX_SIZE': 4000,\n",
            "                       'SCALES': (),\n",
            "                       'SCALE_H_FLIP': False,\n",
            "                       'SCALE_SIZE_DEP': False},\n",
            "          'MAX_SIZE': 512,\n",
            "          'NMS': 0.5,\n",
            "          'PRECOMPUTED_PROPOSALS': False,\n",
            "          'PROPOSAL_FILES': (),\n",
            "          'PROPOSAL_LIMIT': 2000,\n",
            "          'RPN_MIN_SIZE': 0,\n",
            "          'RPN_NMS_THRESH': 0.8,\n",
            "          'RPN_POST_NMS_TOP_N': 1000,\n",
            "          'RPN_PRE_NMS_TOP_N': 1000,\n",
            "          'SCALE': 400,\n",
            "          'SCORE_THRESH': 0.05,\n",
            "          'SOFT_NMS': {'ENABLED': True, 'METHOD': 'linear', 'SIGMA': 0.5},\n",
            "          'WEIGHTS': '/content/final_model.pkl'},\n",
            " 'TRAIN': {'ASPECT_GROUPING': True,\n",
            "           'AUTO_RESUME': True,\n",
            "           'BATCH_SIZE_PER_IM': 512,\n",
            "           'BBOX_THRESH': 0.5,\n",
            "           'BG_THRESH_HI': 0.5,\n",
            "           'BG_THRESH_LO': 0.0,\n",
            "           'COPY_WEIGHTS': False,\n",
            "           'CROWD_FILTER_THRESH': 0.7,\n",
            "           'DATASETS': ('medline_train',),\n",
            "           'FG_FRACTION': 0.25,\n",
            "           'FG_THRESH': 0.5,\n",
            "           'FREEZE_AT': 2,\n",
            "           'FREEZE_CONV_BODY': False,\n",
            "           'GENERATE_PROPOSALS_ON_GPU': False,\n",
            "           'GT_MIN_AREA': -1,\n",
            "           'IMS_PER_BATCH': 1,\n",
            "           'MAX_SIZE': 512,\n",
            "           'PROPOSAL_FILES': (),\n",
            "           'RPN_BATCH_SIZE_PER_IM': 256,\n",
            "           'RPN_FG_FRACTION': 0.5,\n",
            "           'RPN_MIN_SIZE': 0,\n",
            "           'RPN_NEGATIVE_OVERLAP': 0.3,\n",
            "           'RPN_NMS_THRESH': 0.7,\n",
            "           'RPN_POSITIVE_OVERLAP': 0.7,\n",
            "           'RPN_POST_NMS_TOP_N': 2000,\n",
            "           'RPN_PRE_NMS_TOP_N': 2000,\n",
            "           'RPN_STRADDLE_THRESH': 0,\n",
            "           'SCALES': (400,),\n",
            "           'SNAPSHOT_ITERS': 80000,\n",
            "           'USE_FLIPPED': False,\n",
            "           'WEIGHTS': ''},\n",
            " 'USE_NCCL': False,\n",
            " 'VIS': False,\n",
            " 'VIS_TH': 0.9}\n",
            "loading annotations into memory...\n",
            "Done (t=0.00s)\n",
            "creating index...\n",
            "index created!\n",
            "loading annotations into memory...\n",
            "Done (t=0.00s)\n",
            "creating index...\n",
            "index created!\n",
            "WARNING cnn.py:  25: [====DEPRECATE WARNING====]: you are creating an object from CNNModelHelper class which will be deprecated soon. Please use ModelHelper object with brew module. For more information, please refer to caffe2.ai and python/brew.py, python/brew_test.py for more information.\n",
            "INFO net.py:  60: Loading weights from: /content/final_model.pkl\n",
            "INFO net.py:  96: conv1_w loaded from weights file into gpu_0/conv1_w: (64, 3, 7, 7)\n",
            "INFO net.py:  96: res_conv1_bn_s loaded from weights file into gpu_0/res_conv1_bn_s: (64,)\n",
            "INFO net.py:  96: res_conv1_bn_b loaded from weights file into gpu_0/res_conv1_bn_b: (64,)\n",
            "INFO net.py:  96: res2_0_branch2a_w loaded from weights file into gpu_0/res2_0_branch2a_w: (256, 64, 1, 1)\n",
            "INFO net.py:  96: res2_0_branch2a_bn_s loaded from weights file into gpu_0/res2_0_branch2a_bn_s: (256,)\n",
            "INFO net.py:  96: res2_0_branch2a_bn_b loaded from weights file into gpu_0/res2_0_branch2a_bn_b: (256,)\n",
            "INFO net.py:  96: res2_0_branch2b_w loaded from weights file into gpu_0/res2_0_branch2b_w: (256, 4, 3, 3)\n",
            "INFO net.py:  96: res2_0_branch2b_bn_s loaded from weights file into gpu_0/res2_0_branch2b_bn_s: (256,)\n",
            "INFO net.py:  96: res2_0_branch2b_bn_b loaded from weights file into gpu_0/res2_0_branch2b_bn_b: (256,)\n",
            "INFO net.py:  96: res2_0_branch2c_w loaded from weights file into gpu_0/res2_0_branch2c_w: (256, 256, 1, 1)\n",
            "INFO net.py:  96: res2_0_branch2c_bn_s loaded from weights file into gpu_0/res2_0_branch2c_bn_s: (256,)\n",
            "INFO net.py:  96: res2_0_branch2c_bn_b loaded from weights file into gpu_0/res2_0_branch2c_bn_b: (256,)\n",
            "INFO net.py:  96: res2_0_branch1_w loaded from weights file into gpu_0/res2_0_branch1_w: (256, 64, 1, 1)\n",
            "INFO net.py:  96: res2_0_branch1_bn_s loaded from weights file into gpu_0/res2_0_branch1_bn_s: (256,)\n",
            "INFO net.py:  96: res2_0_branch1_bn_b loaded from weights file into gpu_0/res2_0_branch1_bn_b: (256,)\n",
            "INFO net.py:  96: res2_1_branch2a_w loaded from weights file into gpu_0/res2_1_branch2a_w: (256, 256, 1, 1)\n",
            "INFO net.py:  96: res2_1_branch2a_bn_s loaded from weights file into gpu_0/res2_1_branch2a_bn_s: (256,)\n",
            "INFO net.py:  96: res2_1_branch2a_bn_b loaded from weights file into gpu_0/res2_1_branch2a_bn_b: (256,)\n",
            "INFO net.py:  96: res2_1_branch2b_w loaded from weights file into gpu_0/res2_1_branch2b_w: (256, 4, 3, 3)\n",
            "INFO net.py:  96: res2_1_branch2b_bn_s loaded from weights file into gpu_0/res2_1_branch2b_bn_s: (256,)\n",
            "INFO net.py:  96: res2_1_branch2b_bn_b loaded from weights file into gpu_0/res2_1_branch2b_bn_b: (256,)\n",
            "INFO net.py:  96: res2_1_branch2c_w loaded from weights file into gpu_0/res2_1_branch2c_w: (256, 256, 1, 1)\n",
            "INFO net.py:  96: res2_1_branch2c_bn_s loaded from weights file into gpu_0/res2_1_branch2c_bn_s: (256,)\n",
            "INFO net.py:  96: res2_1_branch2c_bn_b loaded from weights file into gpu_0/res2_1_branch2c_bn_b: (256,)\n",
            "INFO net.py:  96: res2_2_branch2a_w loaded from weights file into gpu_0/res2_2_branch2a_w: (256, 256, 1, 1)\n",
            "INFO net.py:  96: res2_2_branch2a_bn_s loaded from weights file into gpu_0/res2_2_branch2a_bn_s: (256,)\n",
            "INFO net.py:  96: res2_2_branch2a_bn_b loaded from weights file into gpu_0/res2_2_branch2a_bn_b: (256,)\n",
            "INFO net.py:  96: res2_2_branch2b_w loaded from weights file into gpu_0/res2_2_branch2b_w: (256, 4, 3, 3)\n",
            "INFO net.py:  96: res2_2_branch2b_bn_s loaded from weights file into gpu_0/res2_2_branch2b_bn_s: (256,)\n",
            "INFO net.py:  96: res2_2_branch2b_bn_b loaded from weights file into gpu_0/res2_2_branch2b_bn_b: (256,)\n",
            "INFO net.py:  96: res2_2_branch2c_w loaded from weights file into gpu_0/res2_2_branch2c_w: (256, 256, 1, 1)\n",
            "INFO net.py:  96: res2_2_branch2c_bn_s loaded from weights file into gpu_0/res2_2_branch2c_bn_s: (256,)\n",
            "INFO net.py:  96: res2_2_branch2c_bn_b loaded from weights file into gpu_0/res2_2_branch2c_bn_b: (256,)\n",
            "INFO net.py:  96: res3_0_branch2a_w [+ momentum] loaded from weights file into gpu_0/res3_0_branch2a_w: (512, 256, 1, 1)\n",
            "INFO net.py:  96: res3_0_branch2a_bn_s loaded from weights file into gpu_0/res3_0_branch2a_bn_s: (512,)\n",
            "INFO net.py:  96: res3_0_branch2a_bn_b loaded from weights file into gpu_0/res3_0_branch2a_bn_b: (512,)\n",
            "INFO net.py:  96: res3_0_branch2b_w [+ momentum] loaded from weights file into gpu_0/res3_0_branch2b_w: (512, 8, 3, 3)\n",
            "INFO net.py:  96: res3_0_branch2b_bn_s loaded from weights file into gpu_0/res3_0_branch2b_bn_s: (512,)\n",
            "INFO net.py:  96: res3_0_branch2b_bn_b loaded from weights file into gpu_0/res3_0_branch2b_bn_b: (512,)\n",
            "INFO net.py:  96: res3_0_branch2c_w [+ momentum] loaded from weights file into gpu_0/res3_0_branch2c_w: (512, 512, 1, 1)\n",
            "INFO net.py:  96: res3_0_branch2c_bn_s loaded from weights file into gpu_0/res3_0_branch2c_bn_s: (512,)\n",
            "INFO net.py:  96: res3_0_branch2c_bn_b loaded from weights file into gpu_0/res3_0_branch2c_bn_b: (512,)\n",
            "INFO net.py:  96: res3_0_branch1_w [+ momentum] loaded from weights file into gpu_0/res3_0_branch1_w: (512, 256, 1, 1)\n",
            "INFO net.py:  96: res3_0_branch1_bn_s loaded from weights file into gpu_0/res3_0_branch1_bn_s: (512,)\n",
            "INFO net.py:  96: res3_0_branch1_bn_b loaded from weights file into gpu_0/res3_0_branch1_bn_b: (512,)\n",
            "INFO net.py:  96: res3_1_branch2a_w [+ momentum] loaded from weights file into gpu_0/res3_1_branch2a_w: (512, 512, 1, 1)\n",
            "INFO net.py:  96: res3_1_branch2a_bn_s loaded from weights file into gpu_0/res3_1_branch2a_bn_s: (512,)\n",
            "INFO net.py:  96: res3_1_branch2a_bn_b loaded from weights file into gpu_0/res3_1_branch2a_bn_b: (512,)\n",
            "INFO net.py:  96: res3_1_branch2b_w [+ momentum] loaded from weights file into gpu_0/res3_1_branch2b_w: (512, 8, 3, 3)\n",
            "INFO net.py:  96: res3_1_branch2b_bn_s loaded from weights file into gpu_0/res3_1_branch2b_bn_s: (512,)\n",
            "INFO net.py:  96: res3_1_branch2b_bn_b loaded from weights file into gpu_0/res3_1_branch2b_bn_b: (512,)\n",
            "INFO net.py:  96: res3_1_branch2c_w [+ momentum] loaded from weights file into gpu_0/res3_1_branch2c_w: (512, 512, 1, 1)\n",
            "INFO net.py:  96: res3_1_branch2c_bn_s loaded from weights file into gpu_0/res3_1_branch2c_bn_s: (512,)\n",
            "INFO net.py:  96: res3_1_branch2c_bn_b loaded from weights file into gpu_0/res3_1_branch2c_bn_b: (512,)\n",
            "INFO net.py:  96: res3_2_branch2a_w [+ momentum] loaded from weights file into gpu_0/res3_2_branch2a_w: (512, 512, 1, 1)\n",
            "INFO net.py:  96: res3_2_branch2a_bn_s loaded from weights file into gpu_0/res3_2_branch2a_bn_s: (512,)\n",
            "INFO net.py:  96: res3_2_branch2a_bn_b loaded from weights file into gpu_0/res3_2_branch2a_bn_b: (512,)\n",
            "INFO net.py:  96: res3_2_branch2b_w [+ momentum] loaded from weights file into gpu_0/res3_2_branch2b_w: (512, 8, 3, 3)\n",
            "INFO net.py:  96: res3_2_branch2b_bn_s loaded from weights file into gpu_0/res3_2_branch2b_bn_s: (512,)\n",
            "INFO net.py:  96: res3_2_branch2b_bn_b loaded from weights file into gpu_0/res3_2_branch2b_bn_b: (512,)\n",
            "INFO net.py:  96: res3_2_branch2c_w [+ momentum] loaded from weights file into gpu_0/res3_2_branch2c_w: (512, 512, 1, 1)\n",
            "INFO net.py:  96: res3_2_branch2c_bn_s loaded from weights file into gpu_0/res3_2_branch2c_bn_s: (512,)\n",
            "INFO net.py:  96: res3_2_branch2c_bn_b loaded from weights file into gpu_0/res3_2_branch2c_bn_b: (512,)\n",
            "INFO net.py:  96: res3_3_branch2a_w [+ momentum] loaded from weights file into gpu_0/res3_3_branch2a_w: (512, 512, 1, 1)\n",
            "INFO net.py:  96: res3_3_branch2a_bn_s loaded from weights file into gpu_0/res3_3_branch2a_bn_s: (512,)\n",
            "INFO net.py:  96: res3_3_branch2a_bn_b loaded from weights file into gpu_0/res3_3_branch2a_bn_b: (512,)\n",
            "INFO net.py:  96: res3_3_branch2b_w [+ momentum] loaded from weights file into gpu_0/res3_3_branch2b_w: (512, 8, 3, 3)\n",
            "INFO net.py:  96: res3_3_branch2b_bn_s loaded from weights file into gpu_0/res3_3_branch2b_bn_s: (512,)\n",
            "INFO net.py:  96: res3_3_branch2b_bn_b loaded from weights file into gpu_0/res3_3_branch2b_bn_b: (512,)\n",
            "INFO net.py:  96: res3_3_branch2c_w [+ momentum] loaded from weights file into gpu_0/res3_3_branch2c_w: (512, 512, 1, 1)\n",
            "INFO net.py:  96: res3_3_branch2c_bn_s loaded from weights file into gpu_0/res3_3_branch2c_bn_s: (512,)\n",
            "INFO net.py:  96: res3_3_branch2c_bn_b loaded from weights file into gpu_0/res3_3_branch2c_bn_b: (512,)\n",
            "INFO net.py:  96: res4_0_branch2a_w [+ momentum] loaded from weights file into gpu_0/res4_0_branch2a_w: (1024, 512, 1, 1)\n",
            "INFO net.py:  96: res4_0_branch2a_bn_s loaded from weights file into gpu_0/res4_0_branch2a_bn_s: (1024,)\n",
            "INFO net.py:  96: res4_0_branch2a_bn_b loaded from weights file into gpu_0/res4_0_branch2a_bn_b: (1024,)\n",
            "INFO net.py:  96: res4_0_branch2b_w [+ momentum] loaded from weights file into gpu_0/res4_0_branch2b_w: (1024, 16, 3, 3)\n",
            "INFO net.py:  96: res4_0_branch2b_bn_s loaded from weights file into gpu_0/res4_0_branch2b_bn_s: (1024,)\n",
            "INFO net.py:  96: res4_0_branch2b_bn_b loaded from weights file into gpu_0/res4_0_branch2b_bn_b: (1024,)\n",
            "INFO net.py:  96: res4_0_branch2c_w [+ momentum] loaded from weights file into gpu_0/res4_0_branch2c_w: (1024, 1024, 1, 1)\n",
            "INFO net.py:  96: res4_0_branch2c_bn_s loaded from weights file into gpu_0/res4_0_branch2c_bn_s: (1024,)\n",
            "INFO net.py:  96: res4_0_branch2c_bn_b loaded from weights file into gpu_0/res4_0_branch2c_bn_b: (1024,)\n",
            "INFO net.py:  96: res4_0_branch1_w [+ momentum] loaded from weights file into gpu_0/res4_0_branch1_w: (1024, 512, 1, 1)\n",
            "INFO net.py:  96: res4_0_branch1_bn_s loaded from weights file into gpu_0/res4_0_branch1_bn_s: (1024,)\n",
            "INFO net.py:  96: res4_0_branch1_bn_b loaded from weights file into gpu_0/res4_0_branch1_bn_b: (1024,)\n",
            "INFO net.py:  96: res4_1_branch2a_w [+ momentum] loaded from weights file into gpu_0/res4_1_branch2a_w: (1024, 1024, 1, 1)\n",
            "INFO net.py:  96: res4_1_branch2a_bn_s loaded from weights file into gpu_0/res4_1_branch2a_bn_s: (1024,)\n",
            "INFO net.py:  96: res4_1_branch2a_bn_b loaded from weights file into gpu_0/res4_1_branch2a_bn_b: (1024,)\n",
            "INFO net.py:  96: res4_1_branch2b_w [+ momentum] loaded from weights file into gpu_0/res4_1_branch2b_w: (1024, 16, 3, 3)\n",
            "INFO net.py:  96: res4_1_branch2b_bn_s loaded from weights file into gpu_0/res4_1_branch2b_bn_s: (1024,)\n",
            "INFO net.py:  96: res4_1_branch2b_bn_b loaded from weights file into gpu_0/res4_1_branch2b_bn_b: (1024,)\n",
            "INFO net.py:  96: res4_1_branch2c_w [+ momentum] loaded from weights file into gpu_0/res4_1_branch2c_w: (1024, 1024, 1, 1)\n",
            "INFO net.py:  96: res4_1_branch2c_bn_s loaded from weights file into gpu_0/res4_1_branch2c_bn_s: (1024,)\n",
            "INFO net.py:  96: res4_1_branch2c_bn_b loaded from weights file into gpu_0/res4_1_branch2c_bn_b: (1024,)\n",
            "INFO net.py:  96: res4_2_branch2a_w [+ momentum] loaded from weights file into gpu_0/res4_2_branch2a_w: (1024, 1024, 1, 1)\n",
            "INFO net.py:  96: res4_2_branch2a_bn_s loaded from weights file into gpu_0/res4_2_branch2a_bn_s: (1024,)\n",
            "INFO net.py:  96: res4_2_branch2a_bn_b loaded from weights file into gpu_0/res4_2_branch2a_bn_b: (1024,)\n",
            "INFO net.py:  96: res4_2_branch2b_w [+ momentum] loaded from weights file into gpu_0/res4_2_branch2b_w: (1024, 16, 3, 3)\n",
            "INFO net.py:  96: res4_2_branch2b_bn_s loaded from weights file into gpu_0/res4_2_branch2b_bn_s: (1024,)\n",
            "INFO net.py:  96: res4_2_branch2b_bn_b loaded from weights file into gpu_0/res4_2_branch2b_bn_b: (1024,)\n",
            "INFO net.py:  96: res4_2_branch2c_w [+ momentum] loaded from weights file into gpu_0/res4_2_branch2c_w: (1024, 1024, 1, 1)\n",
            "INFO net.py:  96: res4_2_branch2c_bn_s loaded from weights file into gpu_0/res4_2_branch2c_bn_s: (1024,)\n",
            "INFO net.py:  96: res4_2_branch2c_bn_b loaded from weights file into gpu_0/res4_2_branch2c_bn_b: (1024,)\n",
            "INFO net.py:  96: res4_3_branch2a_w [+ momentum] loaded from weights file into gpu_0/res4_3_branch2a_w: (1024, 1024, 1, 1)\n",
            "INFO net.py:  96: res4_3_branch2a_bn_s loaded from weights file into gpu_0/res4_3_branch2a_bn_s: (1024,)\n",
            "INFO net.py:  96: res4_3_branch2a_bn_b loaded from weights file into gpu_0/res4_3_branch2a_bn_b: (1024,)\n",
            "INFO net.py:  96: res4_3_branch2b_w [+ momentum] loaded from weights file into gpu_0/res4_3_branch2b_w: (1024, 16, 3, 3)\n",
            "INFO net.py:  96: res4_3_branch2b_bn_s loaded from weights file into gpu_0/res4_3_branch2b_bn_s: (1024,)\n",
            "INFO net.py:  96: res4_3_branch2b_bn_b loaded from weights file into gpu_0/res4_3_branch2b_bn_b: (1024,)\n",
            "INFO net.py:  96: res4_3_branch2c_w [+ momentum] loaded from weights file into gpu_0/res4_3_branch2c_w: (1024, 1024, 1, 1)\n",
            "INFO net.py:  96: res4_3_branch2c_bn_s loaded from weights file into gpu_0/res4_3_branch2c_bn_s: (1024,)\n",
            "INFO net.py:  96: res4_3_branch2c_bn_b loaded from weights file into gpu_0/res4_3_branch2c_bn_b: (1024,)\n",
            "INFO net.py:  96: res4_4_branch2a_w [+ momentum] loaded from weights file into gpu_0/res4_4_branch2a_w: (1024, 1024, 1, 1)\n",
            "INFO net.py:  96: res4_4_branch2a_bn_s loaded from weights file into gpu_0/res4_4_branch2a_bn_s: (1024,)\n",
            "INFO net.py:  96: res4_4_branch2a_bn_b loaded from weights file into gpu_0/res4_4_branch2a_bn_b: (1024,)\n",
            "INFO net.py:  96: res4_4_branch2b_w [+ momentum] loaded from weights file into gpu_0/res4_4_branch2b_w: (1024, 16, 3, 3)\n",
            "INFO net.py:  96: res4_4_branch2b_bn_s loaded from weights file into gpu_0/res4_4_branch2b_bn_s: (1024,)\n",
            "INFO net.py:  96: res4_4_branch2b_bn_b loaded from weights file into gpu_0/res4_4_branch2b_bn_b: (1024,)\n",
            "INFO net.py:  96: res4_4_branch2c_w [+ momentum] loaded from weights file into gpu_0/res4_4_branch2c_w: (1024, 1024, 1, 1)\n",
            "INFO net.py:  96: res4_4_branch2c_bn_s loaded from weights file into gpu_0/res4_4_branch2c_bn_s: (1024,)\n",
            "INFO net.py:  96: res4_4_branch2c_bn_b loaded from weights file into gpu_0/res4_4_branch2c_bn_b: (1024,)\n",
            "INFO net.py:  96: res4_5_branch2a_w [+ momentum] loaded from weights file into gpu_0/res4_5_branch2a_w: (1024, 1024, 1, 1)\n",
            "INFO net.py:  96: res4_5_branch2a_bn_s loaded from weights file into gpu_0/res4_5_branch2a_bn_s: (1024,)\n",
            "INFO net.py:  96: res4_5_branch2a_bn_b loaded from weights file into gpu_0/res4_5_branch2a_bn_b: (1024,)\n",
            "INFO net.py:  96: res4_5_branch2b_w [+ momentum] loaded from weights file into gpu_0/res4_5_branch2b_w: (1024, 16, 3, 3)\n",
            "INFO net.py:  96: res4_5_branch2b_bn_s loaded from weights file into gpu_0/res4_5_branch2b_bn_s: (1024,)\n",
            "INFO net.py:  96: res4_5_branch2b_bn_b loaded from weights file into gpu_0/res4_5_branch2b_bn_b: (1024,)\n",
            "INFO net.py:  96: res4_5_branch2c_w [+ momentum] loaded from weights file into gpu_0/res4_5_branch2c_w: (1024, 1024, 1, 1)\n",
            "INFO net.py:  96: res4_5_branch2c_bn_s loaded from weights file into gpu_0/res4_5_branch2c_bn_s: (1024,)\n",
            "INFO net.py:  96: res4_5_branch2c_bn_b loaded from weights file into gpu_0/res4_5_branch2c_bn_b: (1024,)\n",
            "INFO net.py:  96: res4_6_branch2a_w [+ momentum] loaded from weights file into gpu_0/res4_6_branch2a_w: (1024, 1024, 1, 1)\n",
            "INFO net.py:  96: res4_6_branch2a_bn_s loaded from weights file into gpu_0/res4_6_branch2a_bn_s: (1024,)\n",
            "INFO net.py:  96: res4_6_branch2a_bn_b loaded from weights file into gpu_0/res4_6_branch2a_bn_b: (1024,)\n",
            "INFO net.py:  96: res4_6_branch2b_w [+ momentum] loaded from weights file into gpu_0/res4_6_branch2b_w: (1024, 16, 3, 3)\n",
            "INFO net.py:  96: res4_6_branch2b_bn_s loaded from weights file into gpu_0/res4_6_branch2b_bn_s: (1024,)\n",
            "INFO net.py:  96: res4_6_branch2b_bn_b loaded from weights file into gpu_0/res4_6_branch2b_bn_b: (1024,)\n",
            "INFO net.py:  96: res4_6_branch2c_w [+ momentum] loaded from weights file into gpu_0/res4_6_branch2c_w: (1024, 1024, 1, 1)\n",
            "INFO net.py:  96: res4_6_branch2c_bn_s loaded from weights file into gpu_0/res4_6_branch2c_bn_s: (1024,)\n",
            "INFO net.py:  96: res4_6_branch2c_bn_b loaded from weights file into gpu_0/res4_6_branch2c_bn_b: (1024,)\n",
            "INFO net.py:  96: res4_7_branch2a_w [+ momentum] loaded from weights file into gpu_0/res4_7_branch2a_w: (1024, 1024, 1, 1)\n",
            "INFO net.py:  96: res4_7_branch2a_bn_s loaded from weights file into gpu_0/res4_7_branch2a_bn_s: (1024,)\n",
            "INFO net.py:  96: res4_7_branch2a_bn_b loaded from weights file into gpu_0/res4_7_branch2a_bn_b: (1024,)\n",
            "INFO net.py:  96: res4_7_branch2b_w [+ momentum] loaded from weights file into gpu_0/res4_7_branch2b_w: (1024, 16, 3, 3)\n",
            "INFO net.py:  96: res4_7_branch2b_bn_s loaded from weights file into gpu_0/res4_7_branch2b_bn_s: (1024,)\n",
            "INFO net.py:  96: res4_7_branch2b_bn_b loaded from weights file into gpu_0/res4_7_branch2b_bn_b: (1024,)\n",
            "INFO net.py:  96: res4_7_branch2c_w [+ momentum] loaded from weights file into gpu_0/res4_7_branch2c_w: (1024, 1024, 1, 1)\n",
            "INFO net.py:  96: res4_7_branch2c_bn_s loaded from weights file into gpu_0/res4_7_branch2c_bn_s: (1024,)\n",
            "INFO net.py:  96: res4_7_branch2c_bn_b loaded from weights file into gpu_0/res4_7_branch2c_bn_b: (1024,)\n",
            "INFO net.py:  96: res4_8_branch2a_w [+ momentum] loaded from weights file into gpu_0/res4_8_branch2a_w: (1024, 1024, 1, 1)\n",
            "INFO net.py:  96: res4_8_branch2a_bn_s loaded from weights file into gpu_0/res4_8_branch2a_bn_s: (1024,)\n",
            "INFO net.py:  96: res4_8_branch2a_bn_b loaded from weights file into gpu_0/res4_8_branch2a_bn_b: (1024,)\n",
            "INFO net.py:  96: res4_8_branch2b_w [+ momentum] loaded from weights file into gpu_0/res4_8_branch2b_w: (1024, 16, 3, 3)\n",
            "INFO net.py:  96: res4_8_branch2b_bn_s loaded from weights file into gpu_0/res4_8_branch2b_bn_s: (1024,)\n",
            "INFO net.py:  96: res4_8_branch2b_bn_b loaded from weights file into gpu_0/res4_8_branch2b_bn_b: (1024,)\n",
            "INFO net.py:  96: res4_8_branch2c_w [+ momentum] loaded from weights file into gpu_0/res4_8_branch2c_w: (1024, 1024, 1, 1)\n",
            "INFO net.py:  96: res4_8_branch2c_bn_s loaded from weights file into gpu_0/res4_8_branch2c_bn_s: (1024,)\n",
            "INFO net.py:  96: res4_8_branch2c_bn_b loaded from weights file into gpu_0/res4_8_branch2c_bn_b: (1024,)\n",
            "INFO net.py:  96: res4_9_branch2a_w [+ momentum] loaded from weights file into gpu_0/res4_9_branch2a_w: (1024, 1024, 1, 1)\n",
            "INFO net.py:  96: res4_9_branch2a_bn_s loaded from weights file into gpu_0/res4_9_branch2a_bn_s: (1024,)\n",
            "INFO net.py:  96: res4_9_branch2a_bn_b loaded from weights file into gpu_0/res4_9_branch2a_bn_b: (1024,)\n",
            "INFO net.py:  96: res4_9_branch2b_w [+ momentum] loaded from weights file into gpu_0/res4_9_branch2b_w: (1024, 16, 3, 3)\n",
            "INFO net.py:  96: res4_9_branch2b_bn_s loaded from weights file into gpu_0/res4_9_branch2b_bn_s: (1024,)\n",
            "INFO net.py:  96: res4_9_branch2b_bn_b loaded from weights file into gpu_0/res4_9_branch2b_bn_b: (1024,)\n",
            "INFO net.py:  96: res4_9_branch2c_w [+ momentum] loaded from weights file into gpu_0/res4_9_branch2c_w: (1024, 1024, 1, 1)\n",
            "INFO net.py:  96: res4_9_branch2c_bn_s loaded from weights file into gpu_0/res4_9_branch2c_bn_s: (1024,)\n",
            "INFO net.py:  96: res4_9_branch2c_bn_b loaded from weights file into gpu_0/res4_9_branch2c_bn_b: (1024,)\n",
            "INFO net.py:  96: res4_10_branch2a_w [+ momentum] loaded from weights file into gpu_0/res4_10_branch2a_w: (1024, 1024, 1, 1)\n",
            "INFO net.py:  96: res4_10_branch2a_bn_s loaded from weights file into gpu_0/res4_10_branch2a_bn_s: (1024,)\n",
            "INFO net.py:  96: res4_10_branch2a_bn_b loaded from weights file into gpu_0/res4_10_branch2a_bn_b: (1024,)\n",
            "INFO net.py:  96: res4_10_branch2b_w [+ momentum] loaded from weights file into gpu_0/res4_10_branch2b_w: (1024, 16, 3, 3)\n",
            "INFO net.py:  96: res4_10_branch2b_bn_s loaded from weights file into gpu_0/res4_10_branch2b_bn_s: (1024,)\n",
            "INFO net.py:  96: res4_10_branch2b_bn_b loaded from weights file into gpu_0/res4_10_branch2b_bn_b: (1024,)\n",
            "INFO net.py:  96: res4_10_branch2c_w [+ momentum] loaded from weights file into gpu_0/res4_10_branch2c_w: (1024, 1024, 1, 1)\n",
            "INFO net.py:  96: res4_10_branch2c_bn_s loaded from weights file into gpu_0/res4_10_branch2c_bn_s: (1024,)\n",
            "INFO net.py:  96: res4_10_branch2c_bn_b loaded from weights file into gpu_0/res4_10_branch2c_bn_b: (1024,)\n",
            "INFO net.py:  96: res4_11_branch2a_w [+ momentum] loaded from weights file into gpu_0/res4_11_branch2a_w: (1024, 1024, 1, 1)\n",
            "INFO net.py:  96: res4_11_branch2a_bn_s loaded from weights file into gpu_0/res4_11_branch2a_bn_s: (1024,)\n",
            "INFO net.py:  96: res4_11_branch2a_bn_b loaded from weights file into gpu_0/res4_11_branch2a_bn_b: (1024,)\n",
            "INFO net.py:  96: res4_11_branch2b_w [+ momentum] loaded from weights file into gpu_0/res4_11_branch2b_w: (1024, 16, 3, 3)\n",
            "INFO net.py:  96: res4_11_branch2b_bn_s loaded from weights file into gpu_0/res4_11_branch2b_bn_s: (1024,)\n",
            "INFO net.py:  96: res4_11_branch2b_bn_b loaded from weights file into gpu_0/res4_11_branch2b_bn_b: (1024,)\n",
            "INFO net.py:  96: res4_11_branch2c_w [+ momentum] loaded from weights file into gpu_0/res4_11_branch2c_w: (1024, 1024, 1, 1)\n",
            "INFO net.py:  96: res4_11_branch2c_bn_s loaded from weights file into gpu_0/res4_11_branch2c_bn_s: (1024,)\n",
            "INFO net.py:  96: res4_11_branch2c_bn_b loaded from weights file into gpu_0/res4_11_branch2c_bn_b: (1024,)\n",
            "INFO net.py:  96: res4_12_branch2a_w [+ momentum] loaded from weights file into gpu_0/res4_12_branch2a_w: (1024, 1024, 1, 1)\n",
            "INFO net.py:  96: res4_12_branch2a_bn_s loaded from weights file into gpu_0/res4_12_branch2a_bn_s: (1024,)\n",
            "INFO net.py:  96: res4_12_branch2a_bn_b loaded from weights file into gpu_0/res4_12_branch2a_bn_b: (1024,)\n",
            "INFO net.py:  96: res4_12_branch2b_w [+ momentum] loaded from weights file into gpu_0/res4_12_branch2b_w: (1024, 16, 3, 3)\n",
            "INFO net.py:  96: res4_12_branch2b_bn_s loaded from weights file into gpu_0/res4_12_branch2b_bn_s: (1024,)\n",
            "INFO net.py:  96: res4_12_branch2b_bn_b loaded from weights file into gpu_0/res4_12_branch2b_bn_b: (1024,)\n",
            "INFO net.py:  96: res4_12_branch2c_w [+ momentum] loaded from weights file into gpu_0/res4_12_branch2c_w: (1024, 1024, 1, 1)\n",
            "INFO net.py:  96: res4_12_branch2c_bn_s loaded from weights file into gpu_0/res4_12_branch2c_bn_s: (1024,)\n",
            "INFO net.py:  96: res4_12_branch2c_bn_b loaded from weights file into gpu_0/res4_12_branch2c_bn_b: (1024,)\n",
            "INFO net.py:  96: res4_13_branch2a_w [+ momentum] loaded from weights file into gpu_0/res4_13_branch2a_w: (1024, 1024, 1, 1)\n",
            "INFO net.py:  96: res4_13_branch2a_bn_s loaded from weights file into gpu_0/res4_13_branch2a_bn_s: (1024,)\n",
            "INFO net.py:  96: res4_13_branch2a_bn_b loaded from weights file into gpu_0/res4_13_branch2a_bn_b: (1024,)\n",
            "INFO net.py:  96: res4_13_branch2b_w [+ momentum] loaded from weights file into gpu_0/res4_13_branch2b_w: (1024, 16, 3, 3)\n",
            "INFO net.py:  96: res4_13_branch2b_bn_s loaded from weights file into gpu_0/res4_13_branch2b_bn_s: (1024,)\n",
            "INFO net.py:  96: res4_13_branch2b_bn_b loaded from weights file into gpu_0/res4_13_branch2b_bn_b: (1024,)\n",
            "INFO net.py:  96: res4_13_branch2c_w [+ momentum] loaded from weights file into gpu_0/res4_13_branch2c_w: (1024, 1024, 1, 1)\n",
            "INFO net.py:  96: res4_13_branch2c_bn_s loaded from weights file into gpu_0/res4_13_branch2c_bn_s: (1024,)\n",
            "INFO net.py:  96: res4_13_branch2c_bn_b loaded from weights file into gpu_0/res4_13_branch2c_bn_b: (1024,)\n",
            "INFO net.py:  96: res4_14_branch2a_w [+ momentum] loaded from weights file into gpu_0/res4_14_branch2a_w: (1024, 1024, 1, 1)\n",
            "INFO net.py:  96: res4_14_branch2a_bn_s loaded from weights file into gpu_0/res4_14_branch2a_bn_s: (1024,)\n",
            "INFO net.py:  96: res4_14_branch2a_bn_b loaded from weights file into gpu_0/res4_14_branch2a_bn_b: (1024,)\n",
            "INFO net.py:  96: res4_14_branch2b_w [+ momentum] loaded from weights file into gpu_0/res4_14_branch2b_w: (1024, 16, 3, 3)\n",
            "INFO net.py:  96: res4_14_branch2b_bn_s loaded from weights file into gpu_0/res4_14_branch2b_bn_s: (1024,)\n",
            "INFO net.py:  96: res4_14_branch2b_bn_b loaded from weights file into gpu_0/res4_14_branch2b_bn_b: (1024,)\n",
            "INFO net.py:  96: res4_14_branch2c_w [+ momentum] loaded from weights file into gpu_0/res4_14_branch2c_w: (1024, 1024, 1, 1)\n",
            "INFO net.py:  96: res4_14_branch2c_bn_s loaded from weights file into gpu_0/res4_14_branch2c_bn_s: (1024,)\n",
            "INFO net.py:  96: res4_14_branch2c_bn_b loaded from weights file into gpu_0/res4_14_branch2c_bn_b: (1024,)\n",
            "INFO net.py:  96: res4_15_branch2a_w [+ momentum] loaded from weights file into gpu_0/res4_15_branch2a_w: (1024, 1024, 1, 1)\n",
            "INFO net.py:  96: res4_15_branch2a_bn_s loaded from weights file into gpu_0/res4_15_branch2a_bn_s: (1024,)\n",
            "INFO net.py:  96: res4_15_branch2a_bn_b loaded from weights file into gpu_0/res4_15_branch2a_bn_b: (1024,)\n",
            "INFO net.py:  96: res4_15_branch2b_w [+ momentum] loaded from weights file into gpu_0/res4_15_branch2b_w: (1024, 16, 3, 3)\n",
            "INFO net.py:  96: res4_15_branch2b_bn_s loaded from weights file into gpu_0/res4_15_branch2b_bn_s: (1024,)\n",
            "INFO net.py:  96: res4_15_branch2b_bn_b loaded from weights file into gpu_0/res4_15_branch2b_bn_b: (1024,)\n",
            "INFO net.py:  96: res4_15_branch2c_w [+ momentum] loaded from weights file into gpu_0/res4_15_branch2c_w: (1024, 1024, 1, 1)\n",
            "INFO net.py:  96: res4_15_branch2c_bn_s loaded from weights file into gpu_0/res4_15_branch2c_bn_s: (1024,)\n",
            "INFO net.py:  96: res4_15_branch2c_bn_b loaded from weights file into gpu_0/res4_15_branch2c_bn_b: (1024,)\n",
            "INFO net.py:  96: res4_16_branch2a_w [+ momentum] loaded from weights file into gpu_0/res4_16_branch2a_w: (1024, 1024, 1, 1)\n",
            "INFO net.py:  96: res4_16_branch2a_bn_s loaded from weights file into gpu_0/res4_16_branch2a_bn_s: (1024,)\n",
            "INFO net.py:  96: res4_16_branch2a_bn_b loaded from weights file into gpu_0/res4_16_branch2a_bn_b: (1024,)\n",
            "INFO net.py:  96: res4_16_branch2b_w [+ momentum] loaded from weights file into gpu_0/res4_16_branch2b_w: (1024, 16, 3, 3)\n",
            "INFO net.py:  96: res4_16_branch2b_bn_s loaded from weights file into gpu_0/res4_16_branch2b_bn_s: (1024,)\n",
            "INFO net.py:  96: res4_16_branch2b_bn_b loaded from weights file into gpu_0/res4_16_branch2b_bn_b: (1024,)\n",
            "INFO net.py:  96: res4_16_branch2c_w [+ momentum] loaded from weights file into gpu_0/res4_16_branch2c_w: (1024, 1024, 1, 1)\n",
            "INFO net.py:  96: res4_16_branch2c_bn_s loaded from weights file into gpu_0/res4_16_branch2c_bn_s: (1024,)\n",
            "INFO net.py:  96: res4_16_branch2c_bn_b loaded from weights file into gpu_0/res4_16_branch2c_bn_b: (1024,)\n",
            "INFO net.py:  96: res4_17_branch2a_w [+ momentum] loaded from weights file into gpu_0/res4_17_branch2a_w: (1024, 1024, 1, 1)\n",
            "INFO net.py:  96: res4_17_branch2a_bn_s loaded from weights file into gpu_0/res4_17_branch2a_bn_s: (1024,)\n",
            "INFO net.py:  96: res4_17_branch2a_bn_b loaded from weights file into gpu_0/res4_17_branch2a_bn_b: (1024,)\n",
            "INFO net.py:  96: res4_17_branch2b_w [+ momentum] loaded from weights file into gpu_0/res4_17_branch2b_w: (1024, 16, 3, 3)\n",
            "INFO net.py:  96: res4_17_branch2b_bn_s loaded from weights file into gpu_0/res4_17_branch2b_bn_s: (1024,)\n",
            "INFO net.py:  96: res4_17_branch2b_bn_b loaded from weights file into gpu_0/res4_17_branch2b_bn_b: (1024,)\n",
            "INFO net.py:  96: res4_17_branch2c_w [+ momentum] loaded from weights file into gpu_0/res4_17_branch2c_w: (1024, 1024, 1, 1)\n",
            "INFO net.py:  96: res4_17_branch2c_bn_s loaded from weights file into gpu_0/res4_17_branch2c_bn_s: (1024,)\n",
            "INFO net.py:  96: res4_17_branch2c_bn_b loaded from weights file into gpu_0/res4_17_branch2c_bn_b: (1024,)\n",
            "INFO net.py:  96: res4_18_branch2a_w [+ momentum] loaded from weights file into gpu_0/res4_18_branch2a_w: (1024, 1024, 1, 1)\n",
            "INFO net.py:  96: res4_18_branch2a_bn_s loaded from weights file into gpu_0/res4_18_branch2a_bn_s: (1024,)\n",
            "INFO net.py:  96: res4_18_branch2a_bn_b loaded from weights file into gpu_0/res4_18_branch2a_bn_b: (1024,)\n",
            "INFO net.py:  96: res4_18_branch2b_w [+ momentum] loaded from weights file into gpu_0/res4_18_branch2b_w: (1024, 16, 3, 3)\n",
            "INFO net.py:  96: res4_18_branch2b_bn_s loaded from weights file into gpu_0/res4_18_branch2b_bn_s: (1024,)\n",
            "INFO net.py:  96: res4_18_branch2b_bn_b loaded from weights file into gpu_0/res4_18_branch2b_bn_b: (1024,)\n",
            "INFO net.py:  96: res4_18_branch2c_w [+ momentum] loaded from weights file into gpu_0/res4_18_branch2c_w: (1024, 1024, 1, 1)\n",
            "INFO net.py:  96: res4_18_branch2c_bn_s loaded from weights file into gpu_0/res4_18_branch2c_bn_s: (1024,)\n",
            "INFO net.py:  96: res4_18_branch2c_bn_b loaded from weights file into gpu_0/res4_18_branch2c_bn_b: (1024,)\n",
            "INFO net.py:  96: res4_19_branch2a_w [+ momentum] loaded from weights file into gpu_0/res4_19_branch2a_w: (1024, 1024, 1, 1)\n",
            "INFO net.py:  96: res4_19_branch2a_bn_s loaded from weights file into gpu_0/res4_19_branch2a_bn_s: (1024,)\n",
            "INFO net.py:  96: res4_19_branch2a_bn_b loaded from weights file into gpu_0/res4_19_branch2a_bn_b: (1024,)\n",
            "INFO net.py:  96: res4_19_branch2b_w [+ momentum] loaded from weights file into gpu_0/res4_19_branch2b_w: (1024, 16, 3, 3)\n",
            "INFO net.py:  96: res4_19_branch2b_bn_s loaded from weights file into gpu_0/res4_19_branch2b_bn_s: (1024,)\n",
            "INFO net.py:  96: res4_19_branch2b_bn_b loaded from weights file into gpu_0/res4_19_branch2b_bn_b: (1024,)\n",
            "INFO net.py:  96: res4_19_branch2c_w [+ momentum] loaded from weights file into gpu_0/res4_19_branch2c_w: (1024, 1024, 1, 1)\n",
            "INFO net.py:  96: res4_19_branch2c_bn_s loaded from weights file into gpu_0/res4_19_branch2c_bn_s: (1024,)\n",
            "INFO net.py:  96: res4_19_branch2c_bn_b loaded from weights file into gpu_0/res4_19_branch2c_bn_b: (1024,)\n",
            "INFO net.py:  96: res4_20_branch2a_w [+ momentum] loaded from weights file into gpu_0/res4_20_branch2a_w: (1024, 1024, 1, 1)\n",
            "INFO net.py:  96: res4_20_branch2a_bn_s loaded from weights file into gpu_0/res4_20_branch2a_bn_s: (1024,)\n",
            "INFO net.py:  96: res4_20_branch2a_bn_b loaded from weights file into gpu_0/res4_20_branch2a_bn_b: (1024,)\n",
            "INFO net.py:  96: res4_20_branch2b_w [+ momentum] loaded from weights file into gpu_0/res4_20_branch2b_w: (1024, 16, 3, 3)\n",
            "INFO net.py:  96: res4_20_branch2b_bn_s loaded from weights file into gpu_0/res4_20_branch2b_bn_s: (1024,)\n",
            "INFO net.py:  96: res4_20_branch2b_bn_b loaded from weights file into gpu_0/res4_20_branch2b_bn_b: (1024,)\n",
            "INFO net.py:  96: res4_20_branch2c_w [+ momentum] loaded from weights file into gpu_0/res4_20_branch2c_w: (1024, 1024, 1, 1)\n",
            "INFO net.py:  96: res4_20_branch2c_bn_s loaded from weights file into gpu_0/res4_20_branch2c_bn_s: (1024,)\n",
            "INFO net.py:  96: res4_20_branch2c_bn_b loaded from weights file into gpu_0/res4_20_branch2c_bn_b: (1024,)\n",
            "INFO net.py:  96: res4_21_branch2a_w [+ momentum] loaded from weights file into gpu_0/res4_21_branch2a_w: (1024, 1024, 1, 1)\n",
            "INFO net.py:  96: res4_21_branch2a_bn_s loaded from weights file into gpu_0/res4_21_branch2a_bn_s: (1024,)\n",
            "INFO net.py:  96: res4_21_branch2a_bn_b loaded from weights file into gpu_0/res4_21_branch2a_bn_b: (1024,)\n",
            "INFO net.py:  96: res4_21_branch2b_w [+ momentum] loaded from weights file into gpu_0/res4_21_branch2b_w: (1024, 16, 3, 3)\n",
            "INFO net.py:  96: res4_21_branch2b_bn_s loaded from weights file into gpu_0/res4_21_branch2b_bn_s: (1024,)\n",
            "INFO net.py:  96: res4_21_branch2b_bn_b loaded from weights file into gpu_0/res4_21_branch2b_bn_b: (1024,)\n",
            "INFO net.py:  96: res4_21_branch2c_w [+ momentum] loaded from weights file into gpu_0/res4_21_branch2c_w: (1024, 1024, 1, 1)\n",
            "INFO net.py:  96: res4_21_branch2c_bn_s loaded from weights file into gpu_0/res4_21_branch2c_bn_s: (1024,)\n",
            "INFO net.py:  96: res4_21_branch2c_bn_b loaded from weights file into gpu_0/res4_21_branch2c_bn_b: (1024,)\n",
            "INFO net.py:  96: res4_22_branch2a_w [+ momentum] loaded from weights file into gpu_0/res4_22_branch2a_w: (1024, 1024, 1, 1)\n",
            "INFO net.py:  96: res4_22_branch2a_bn_s loaded from weights file into gpu_0/res4_22_branch2a_bn_s: (1024,)\n",
            "INFO net.py:  96: res4_22_branch2a_bn_b loaded from weights file into gpu_0/res4_22_branch2a_bn_b: (1024,)\n",
            "INFO net.py:  96: res4_22_branch2b_w [+ momentum] loaded from weights file into gpu_0/res4_22_branch2b_w: (1024, 16, 3, 3)\n",
            "INFO net.py:  96: res4_22_branch2b_bn_s loaded from weights file into gpu_0/res4_22_branch2b_bn_s: (1024,)\n",
            "INFO net.py:  96: res4_22_branch2b_bn_b loaded from weights file into gpu_0/res4_22_branch2b_bn_b: (1024,)\n",
            "INFO net.py:  96: res4_22_branch2c_w [+ momentum] loaded from weights file into gpu_0/res4_22_branch2c_w: (1024, 1024, 1, 1)\n",
            "INFO net.py:  96: res4_22_branch2c_bn_s loaded from weights file into gpu_0/res4_22_branch2c_bn_s: (1024,)\n",
            "INFO net.py:  96: res4_22_branch2c_bn_b loaded from weights file into gpu_0/res4_22_branch2c_bn_b: (1024,)\n",
            "INFO net.py:  96: res5_0_branch2a_w [+ momentum] loaded from weights file into gpu_0/res5_0_branch2a_w: (2048, 1024, 1, 1)\n",
            "INFO net.py:  96: res5_0_branch2a_bn_s loaded from weights file into gpu_0/res5_0_branch2a_bn_s: (2048,)\n",
            "INFO net.py:  96: res5_0_branch2a_bn_b loaded from weights file into gpu_0/res5_0_branch2a_bn_b: (2048,)\n",
            "INFO net.py:  96: res5_0_branch2b_w [+ momentum] loaded from weights file into gpu_0/res5_0_branch2b_w: (2048, 32, 3, 3)\n",
            "INFO net.py:  96: res5_0_branch2b_bn_s loaded from weights file into gpu_0/res5_0_branch2b_bn_s: (2048,)\n",
            "INFO net.py:  96: res5_0_branch2b_bn_b loaded from weights file into gpu_0/res5_0_branch2b_bn_b: (2048,)\n",
            "INFO net.py:  96: res5_0_branch2c_w [+ momentum] loaded from weights file into gpu_0/res5_0_branch2c_w: (2048, 2048, 1, 1)\n",
            "INFO net.py:  96: res5_0_branch2c_bn_s loaded from weights file into gpu_0/res5_0_branch2c_bn_s: (2048,)\n",
            "INFO net.py:  96: res5_0_branch2c_bn_b loaded from weights file into gpu_0/res5_0_branch2c_bn_b: (2048,)\n",
            "INFO net.py:  96: res5_0_branch1_w [+ momentum] loaded from weights file into gpu_0/res5_0_branch1_w: (2048, 1024, 1, 1)\n",
            "INFO net.py:  96: res5_0_branch1_bn_s loaded from weights file into gpu_0/res5_0_branch1_bn_s: (2048,)\n",
            "INFO net.py:  96: res5_0_branch1_bn_b loaded from weights file into gpu_0/res5_0_branch1_bn_b: (2048,)\n",
            "INFO net.py:  96: res5_1_branch2a_w [+ momentum] loaded from weights file into gpu_0/res5_1_branch2a_w: (2048, 2048, 1, 1)\n",
            "INFO net.py:  96: res5_1_branch2a_bn_s loaded from weights file into gpu_0/res5_1_branch2a_bn_s: (2048,)\n",
            "INFO net.py:  96: res5_1_branch2a_bn_b loaded from weights file into gpu_0/res5_1_branch2a_bn_b: (2048,)\n",
            "INFO net.py:  96: res5_1_branch2b_w [+ momentum] loaded from weights file into gpu_0/res5_1_branch2b_w: (2048, 32, 3, 3)\n",
            "INFO net.py:  96: res5_1_branch2b_bn_s loaded from weights file into gpu_0/res5_1_branch2b_bn_s: (2048,)\n",
            "INFO net.py:  96: res5_1_branch2b_bn_b loaded from weights file into gpu_0/res5_1_branch2b_bn_b: (2048,)\n",
            "INFO net.py:  96: res5_1_branch2c_w [+ momentum] loaded from weights file into gpu_0/res5_1_branch2c_w: (2048, 2048, 1, 1)\n",
            "INFO net.py:  96: res5_1_branch2c_bn_s loaded from weights file into gpu_0/res5_1_branch2c_bn_s: (2048,)\n",
            "INFO net.py:  96: res5_1_branch2c_bn_b loaded from weights file into gpu_0/res5_1_branch2c_bn_b: (2048,)\n",
            "INFO net.py:  96: res5_2_branch2a_w [+ momentum] loaded from weights file into gpu_0/res5_2_branch2a_w: (2048, 2048, 1, 1)\n",
            "INFO net.py:  96: res5_2_branch2a_bn_s loaded from weights file into gpu_0/res5_2_branch2a_bn_s: (2048,)\n",
            "INFO net.py:  96: res5_2_branch2a_bn_b loaded from weights file into gpu_0/res5_2_branch2a_bn_b: (2048,)\n",
            "INFO net.py:  96: res5_2_branch2b_w [+ momentum] loaded from weights file into gpu_0/res5_2_branch2b_w: (2048, 32, 3, 3)\n",
            "INFO net.py:  96: res5_2_branch2b_bn_s loaded from weights file into gpu_0/res5_2_branch2b_bn_s: (2048,)\n",
            "INFO net.py:  96: res5_2_branch2b_bn_b loaded from weights file into gpu_0/res5_2_branch2b_bn_b: (2048,)\n",
            "INFO net.py:  96: res5_2_branch2c_w [+ momentum] loaded from weights file into gpu_0/res5_2_branch2c_w: (2048, 2048, 1, 1)\n",
            "INFO net.py:  96: res5_2_branch2c_bn_s loaded from weights file into gpu_0/res5_2_branch2c_bn_s: (2048,)\n",
            "INFO net.py:  96: res5_2_branch2c_bn_b loaded from weights file into gpu_0/res5_2_branch2c_bn_b: (2048,)\n",
            "INFO net.py:  96: fpn_inner_res5_2_sum_w [+ momentum] loaded from weights file into gpu_0/fpn_inner_res5_2_sum_w: (256, 2048, 1, 1)\n",
            "INFO net.py:  96: fpn_inner_res5_2_sum_b [+ momentum] loaded from weights file into gpu_0/fpn_inner_res5_2_sum_b: (256,)\n",
            "INFO net.py:  96: fpn_inner_res4_22_sum_lateral_w [+ momentum] loaded from weights file into gpu_0/fpn_inner_res4_22_sum_lateral_w: (256, 1024, 1, 1)\n",
            "INFO net.py:  96: fpn_inner_res4_22_sum_lateral_b [+ momentum] loaded from weights file into gpu_0/fpn_inner_res4_22_sum_lateral_b: (256,)\n",
            "INFO net.py:  96: fpn_inner_res3_3_sum_lateral_w [+ momentum] loaded from weights file into gpu_0/fpn_inner_res3_3_sum_lateral_w: (256, 512, 1, 1)\n",
            "INFO net.py:  96: fpn_inner_res3_3_sum_lateral_b [+ momentum] loaded from weights file into gpu_0/fpn_inner_res3_3_sum_lateral_b: (256,)\n",
            "INFO net.py:  96: fpn_inner_res2_2_sum_lateral_w [+ momentum] loaded from weights file into gpu_0/fpn_inner_res2_2_sum_lateral_w: (256, 256, 1, 1)\n",
            "INFO net.py:  96: fpn_inner_res2_2_sum_lateral_b [+ momentum] loaded from weights file into gpu_0/fpn_inner_res2_2_sum_lateral_b: (256,)\n",
            "INFO net.py:  96: fpn_res5_2_sum_w [+ momentum] loaded from weights file into gpu_0/fpn_res5_2_sum_w: (256, 256, 3, 3)\n",
            "INFO net.py:  96: fpn_res5_2_sum_b [+ momentum] loaded from weights file into gpu_0/fpn_res5_2_sum_b: (256,)\n",
            "INFO net.py:  96: fpn_res4_22_sum_w [+ momentum] loaded from weights file into gpu_0/fpn_res4_22_sum_w: (256, 256, 3, 3)\n",
            "INFO net.py:  96: fpn_res4_22_sum_b [+ momentum] loaded from weights file into gpu_0/fpn_res4_22_sum_b: (256,)\n",
            "INFO net.py:  96: fpn_res3_3_sum_w [+ momentum] loaded from weights file into gpu_0/fpn_res3_3_sum_w: (256, 256, 3, 3)\n",
            "INFO net.py:  96: fpn_res3_3_sum_b [+ momentum] loaded from weights file into gpu_0/fpn_res3_3_sum_b: (256,)\n",
            "INFO net.py:  96: fpn_res2_2_sum_w [+ momentum] loaded from weights file into gpu_0/fpn_res2_2_sum_w: (256, 256, 3, 3)\n",
            "INFO net.py:  96: fpn_res2_2_sum_b [+ momentum] loaded from weights file into gpu_0/fpn_res2_2_sum_b: (256,)\n",
            "INFO net.py:  96: conv_rpn_fpn2_w [+ momentum] loaded from weights file into gpu_0/conv_rpn_fpn2_w: (256, 256, 3, 3)\n",
            "INFO net.py:  96: conv_rpn_fpn2_b [+ momentum] loaded from weights file into gpu_0/conv_rpn_fpn2_b: (256,)\n",
            "INFO net.py:  96: rpn_cls_logits_fpn2_w [+ momentum] loaded from weights file into gpu_0/rpn_cls_logits_fpn2_w: (3, 256, 1, 1)\n",
            "INFO net.py:  96: rpn_cls_logits_fpn2_b [+ momentum] loaded from weights file into gpu_0/rpn_cls_logits_fpn2_b: (3,)\n",
            "INFO net.py:  96: rpn_bbox_pred_fpn2_w [+ momentum] loaded from weights file into gpu_0/rpn_bbox_pred_fpn2_w: (12, 256, 1, 1)\n",
            "INFO net.py:  96: rpn_bbox_pred_fpn2_b [+ momentum] loaded from weights file into gpu_0/rpn_bbox_pred_fpn2_b: (12,)\n",
            "INFO net.py:  96: fc6_w [+ momentum] loaded from weights file into gpu_0/fc6_w: (1024, 12544)\n",
            "INFO net.py:  96: fc6_b [+ momentum] loaded from weights file into gpu_0/fc6_b: (1024,)\n",
            "INFO net.py:  96: fc7_w [+ momentum] loaded from weights file into gpu_0/fc7_w: (1024, 1024)\n",
            "INFO net.py:  96: fc7_b [+ momentum] loaded from weights file into gpu_0/fc7_b: (1024,)\n",
            "INFO net.py:  96: cls_score_w [+ momentum] loaded from weights file into gpu_0/cls_score_w: (6, 1024)\n",
            "INFO net.py:  96: cls_score_b [+ momentum] loaded from weights file into gpu_0/cls_score_b: (6,)\n",
            "INFO net.py:  96: bbox_pred_w [+ momentum] loaded from weights file into gpu_0/bbox_pred_w: (24, 1024)\n",
            "INFO net.py:  96: bbox_pred_b [+ momentum] loaded from weights file into gpu_0/bbox_pred_b: (24,)\n",
            "INFO net.py:  96: _[mask]_fcn1_w [+ momentum] loaded from weights file into gpu_0/_[mask]_fcn1_w: (256, 256, 3, 3)\n",
            "INFO net.py:  96: _[mask]_fcn1_b [+ momentum] loaded from weights file into gpu_0/_[mask]_fcn1_b: (256,)\n",
            "INFO net.py:  96: _[mask]_fcn2_w [+ momentum] loaded from weights file into gpu_0/_[mask]_fcn2_w: (256, 256, 3, 3)\n",
            "INFO net.py:  96: _[mask]_fcn2_b [+ momentum] loaded from weights file into gpu_0/_[mask]_fcn2_b: (256,)\n",
            "INFO net.py:  96: _[mask]_fcn3_w [+ momentum] loaded from weights file into gpu_0/_[mask]_fcn3_w: (256, 256, 3, 3)\n",
            "INFO net.py:  96: _[mask]_fcn3_b [+ momentum] loaded from weights file into gpu_0/_[mask]_fcn3_b: (256,)\n",
            "INFO net.py:  96: _[mask]_fcn4_w [+ momentum] loaded from weights file into gpu_0/_[mask]_fcn4_w: (256, 256, 3, 3)\n",
            "INFO net.py:  96: _[mask]_fcn4_b [+ momentum] loaded from weights file into gpu_0/_[mask]_fcn4_b: (256,)\n",
            "INFO net.py:  96: conv5_mask_w [+ momentum] loaded from weights file into gpu_0/conv5_mask_w: (256, 256, 2, 2)\n",
            "INFO net.py:  96: conv5_mask_b [+ momentum] loaded from weights file into gpu_0/conv5_mask_b: (256,)\n",
            "INFO net.py:  96: mask_fcn_logits_w [+ momentum] loaded from weights file into gpu_0/mask_fcn_logits_w: (6, 256, 1, 1)\n",
            "INFO net.py:  96: mask_fcn_logits_b [+ momentum] loaded from weights file into gpu_0/mask_fcn_logits_b: (6,)\n",
            "INFO net.py: 133: lr preserved in workspace (unused)\n",
            "INFO net.py: 133: pred_b preserved in workspace (unused)\n",
            "INFO net.py: 133: pred_w preserved in workspace (unused)\n",
            "INFO net.py: 133: weight_order preserved in workspace (unused)\n",
            "[I net_dag_utils.cc:102] Operator graph pruning prior to chain compute took: 0.00011978 secs\n",
            "[I net_dag_utils.cc:102] Operator graph pruning prior to chain compute took: 5.6211e-05 secs\n",
            "[I net_dag_utils.cc:102] Operator graph pruning prior to chain compute took: 1.7233e-05 secs\n",
            "[I net_async_base.h:213] Using specified CPU pool size: 32; device id: -1\n",
            "[I net_async_base.h:218] Created new CPU pool, size: 32; device id: -1\n",
            "[I net_async_base.h:213] Using specified CPU pool size: 32; device id: -1\n",
            "[I net_async_base.h:218] Created new CPU pool, size: 32; device id: -1\n",
            "INFO test_engine.py: 286: im_detect: range [1, 969] of 969: 1/969 0.264s + 0.103s (eta: 0:05:55)\n",
            "INFO test_engine.py: 286: im_detect: range [1, 969] of 969: 11/969 0.134s + 0.094s (eta: 0:03:38)\n",
            "INFO test_engine.py: 286: im_detect: range [1, 969] of 969: 21/969 0.125s + 0.069s (eta: 0:03:04)\n",
            "INFO test_engine.py: 286: im_detect: range [1, 969] of 969: 31/969 0.123s + 0.070s (eta: 0:03:00)\n",
            "INFO test_engine.py: 286: im_detect: range [1, 969] of 969: 41/969 0.121s + 0.066s (eta: 0:02:53)\n",
            "INFO test_engine.py: 286: im_detect: range [1, 969] of 969: 51/969 0.120s + 0.068s (eta: 0:02:52)\n",
            "INFO test_engine.py: 286: im_detect: range [1, 969] of 969: 61/969 0.120s + 0.071s (eta: 0:02:53)\n",
            "INFO test_engine.py: 286: im_detect: range [1, 969] of 969: 71/969 0.119s + 0.069s (eta: 0:02:48)\n",
            "INFO test_engine.py: 286: im_detect: range [1, 969] of 969: 81/969 0.118s + 0.067s (eta: 0:02:44)\n",
            "INFO test_engine.py: 286: im_detect: range [1, 969] of 969: 91/969 0.118s + 0.067s (eta: 0:02:42)\n",
            "INFO test_engine.py: 286: im_detect: range [1, 969] of 969: 101/969 0.118s + 0.069s (eta: 0:02:42)\n",
            "INFO test_engine.py: 286: im_detect: range [1, 969] of 969: 111/969 0.118s + 0.069s (eta: 0:02:40)\n",
            "INFO test_engine.py: 286: im_detect: range [1, 969] of 969: 121/969 0.118s + 0.071s (eta: 0:02:40)\n",
            "INFO test_engine.py: 286: im_detect: range [1, 969] of 969: 131/969 0.118s + 0.071s (eta: 0:02:38)\n",
            "INFO test_engine.py: 286: im_detect: range [1, 969] of 969: 141/969 0.118s + 0.071s (eta: 0:02:36)\n",
            "INFO test_engine.py: 286: im_detect: range [1, 969] of 969: 151/969 0.118s + 0.071s (eta: 0:02:34)\n",
            "INFO test_engine.py: 286: im_detect: range [1, 969] of 969: 161/969 0.118s + 0.071s (eta: 0:02:32)\n",
            "INFO test_engine.py: 286: im_detect: range [1, 969] of 969: 171/969 0.118s + 0.071s (eta: 0:02:30)\n",
            "INFO test_engine.py: 286: im_detect: range [1, 969] of 969: 181/969 0.118s + 0.071s (eta: 0:02:28)\n",
            "INFO test_engine.py: 286: im_detect: range [1, 969] of 969: 191/969 0.117s + 0.072s (eta: 0:02:27)\n",
            "INFO test_engine.py: 286: im_detect: range [1, 969] of 969: 201/969 0.117s + 0.072s (eta: 0:02:25)\n",
            "INFO test_engine.py: 286: im_detect: range [1, 969] of 969: 211/969 0.117s + 0.073s (eta: 0:02:24)\n",
            "INFO test_engine.py: 286: im_detect: range [1, 969] of 969: 221/969 0.117s + 0.073s (eta: 0:02:22)\n",
            "INFO test_engine.py: 286: im_detect: range [1, 969] of 969: 231/969 0.117s + 0.073s (eta: 0:02:20)\n",
            "INFO test_engine.py: 286: im_detect: range [1, 969] of 969: 241/969 0.117s + 0.073s (eta: 0:02:18)\n",
            "INFO test_engine.py: 286: im_detect: range [1, 969] of 969: 251/969 0.117s + 0.072s (eta: 0:02:15)\n",
            "INFO test_engine.py: 286: im_detect: range [1, 969] of 969: 261/969 0.117s + 0.072s (eta: 0:02:14)\n",
            "INFO test_engine.py: 286: im_detect: range [1, 969] of 969: 271/969 0.117s + 0.072s (eta: 0:02:12)\n",
            "INFO test_engine.py: 286: im_detect: range [1, 969] of 969: 281/969 0.117s + 0.072s (eta: 0:02:10)\n",
            "INFO test_engine.py: 286: im_detect: range [1, 969] of 969: 291/969 0.117s + 0.071s (eta: 0:02:07)\n",
            "INFO test_engine.py: 286: im_detect: range [1, 969] of 969: 301/969 0.117s + 0.071s (eta: 0:02:05)\n",
            "INFO test_engine.py: 286: im_detect: range [1, 969] of 969: 311/969 0.117s + 0.071s (eta: 0:02:03)\n",
            "INFO test_engine.py: 286: im_detect: range [1, 969] of 969: 321/969 0.117s + 0.071s (eta: 0:02:01)\n",
            "INFO test_engine.py: 286: im_detect: range [1, 969] of 969: 331/969 0.117s + 0.071s (eta: 0:01:59)\n",
            "INFO test_engine.py: 286: im_detect: range [1, 969] of 969: 341/969 0.117s + 0.072s (eta: 0:01:58)\n",
            "INFO test_engine.py: 286: im_detect: range [1, 969] of 969: 351/969 0.117s + 0.071s (eta: 0:01:56)\n",
            "INFO test_engine.py: 286: im_detect: range [1, 969] of 969: 361/969 0.117s + 0.071s (eta: 0:01:54)\n",
            "INFO test_engine.py: 286: im_detect: range [1, 969] of 969: 371/969 0.117s + 0.071s (eta: 0:01:52)\n",
            "INFO test_engine.py: 286: im_detect: range [1, 969] of 969: 381/969 0.117s + 0.070s (eta: 0:01:50)\n",
            "INFO test_engine.py: 286: im_detect: range [1, 969] of 969: 391/969 0.117s + 0.070s (eta: 0:01:48)\n",
            "INFO test_engine.py: 286: im_detect: range [1, 969] of 969: 401/969 0.117s + 0.070s (eta: 0:01:45)\n",
            "INFO test_engine.py: 286: im_detect: range [1, 969] of 969: 411/969 0.117s + 0.070s (eta: 0:01:44)\n",
            "INFO test_engine.py: 286: im_detect: range [1, 969] of 969: 421/969 0.117s + 0.070s (eta: 0:01:42)\n",
            "INFO test_engine.py: 286: im_detect: range [1, 969] of 969: 431/969 0.117s + 0.069s (eta: 0:01:40)\n",
            "INFO test_engine.py: 286: im_detect: range [1, 969] of 969: 441/969 0.117s + 0.069s (eta: 0:01:38)\n",
            "INFO test_engine.py: 286: im_detect: range [1, 969] of 969: 451/969 0.117s + 0.069s (eta: 0:01:36)\n",
            "INFO test_engine.py: 286: im_detect: range [1, 969] of 969: 461/969 0.117s + 0.069s (eta: 0:01:34)\n",
            "INFO test_engine.py: 286: im_detect: range [1, 969] of 969: 471/969 0.117s + 0.069s (eta: 0:01:32)\n",
            "INFO test_engine.py: 286: im_detect: range [1, 969] of 969: 481/969 0.117s + 0.069s (eta: 0:01:30)\n",
            "INFO test_engine.py: 286: im_detect: range [1, 969] of 969: 491/969 0.117s + 0.069s (eta: 0:01:28)\n",
            "INFO test_engine.py: 286: im_detect: range [1, 969] of 969: 501/969 0.117s + 0.069s (eta: 0:01:26)\n",
            "INFO test_engine.py: 286: im_detect: range [1, 969] of 969: 511/969 0.117s + 0.068s (eta: 0:01:24)\n",
            "INFO test_engine.py: 286: im_detect: range [1, 969] of 969: 521/969 0.117s + 0.068s (eta: 0:01:22)\n",
            "INFO test_engine.py: 286: im_detect: range [1, 969] of 969: 531/969 0.117s + 0.068s (eta: 0:01:20)\n",
            "INFO test_engine.py: 286: im_detect: range [1, 969] of 969: 541/969 0.117s + 0.069s (eta: 0:01:19)\n",
            "INFO test_engine.py: 286: im_detect: range [1, 969] of 969: 551/969 0.117s + 0.069s (eta: 0:01:17)\n",
            "INFO test_engine.py: 286: im_detect: range [1, 969] of 969: 561/969 0.117s + 0.069s (eta: 0:01:15)\n",
            "INFO test_engine.py: 286: im_detect: range [1, 969] of 969: 571/969 0.116s + 0.069s (eta: 0:01:13)\n",
            "INFO test_engine.py: 286: im_detect: range [1, 969] of 969: 581/969 0.116s + 0.068s (eta: 0:01:11)\n",
            "INFO test_engine.py: 286: im_detect: range [1, 969] of 969: 591/969 0.116s + 0.068s (eta: 0:01:09)\n",
            "INFO test_engine.py: 286: im_detect: range [1, 969] of 969: 601/969 0.116s + 0.068s (eta: 0:01:07)\n",
            "INFO test_engine.py: 286: im_detect: range [1, 969] of 969: 611/969 0.116s + 0.068s (eta: 0:01:05)\n",
            "INFO test_engine.py: 286: im_detect: range [1, 969] of 969: 621/969 0.116s + 0.068s (eta: 0:01:04)\n",
            "INFO test_engine.py: 286: im_detect: range [1, 969] of 969: 631/969 0.116s + 0.068s (eta: 0:01:02)\n",
            "INFO test_engine.py: 286: im_detect: range [1, 969] of 969: 641/969 0.116s + 0.068s (eta: 0:01:00)\n",
            "INFO test_engine.py: 286: im_detect: range [1, 969] of 969: 651/969 0.116s + 0.069s (eta: 0:00:58)\n",
            "INFO test_engine.py: 286: im_detect: range [1, 969] of 969: 661/969 0.116s + 0.069s (eta: 0:00:56)\n",
            "INFO test_engine.py: 286: im_detect: range [1, 969] of 969: 671/969 0.116s + 0.069s (eta: 0:00:55)\n",
            "INFO test_engine.py: 286: im_detect: range [1, 969] of 969: 681/969 0.116s + 0.069s (eta: 0:00:53)\n",
            "INFO test_engine.py: 286: im_detect: range [1, 969] of 969: 691/969 0.116s + 0.069s (eta: 0:00:51)\n",
            "INFO test_engine.py: 286: im_detect: range [1, 969] of 969: 701/969 0.116s + 0.068s (eta: 0:00:49)\n",
            "INFO test_engine.py: 286: im_detect: range [1, 969] of 969: 711/969 0.116s + 0.068s (eta: 0:00:47)\n",
            "INFO test_engine.py: 286: im_detect: range [1, 969] of 969: 721/969 0.116s + 0.068s (eta: 0:00:45)\n",
            "INFO test_engine.py: 286: im_detect: range [1, 969] of 969: 731/969 0.116s + 0.068s (eta: 0:00:43)\n",
            "INFO test_engine.py: 286: im_detect: range [1, 969] of 969: 741/969 0.116s + 0.069s (eta: 0:00:42)\n",
            "INFO test_engine.py: 286: im_detect: range [1, 969] of 969: 751/969 0.116s + 0.068s (eta: 0:00:40)\n",
            "INFO test_engine.py: 286: im_detect: range [1, 969] of 969: 761/969 0.116s + 0.068s (eta: 0:00:38)\n",
            "INFO test_engine.py: 286: im_detect: range [1, 969] of 969: 771/969 0.116s + 0.068s (eta: 0:00:36)\n",
            "INFO test_engine.py: 286: im_detect: range [1, 969] of 969: 781/969 0.116s + 0.068s (eta: 0:00:34)\n",
            "INFO test_engine.py: 286: im_detect: range [1, 969] of 969: 791/969 0.116s + 0.068s (eta: 0:00:32)\n",
            "INFO test_engine.py: 286: im_detect: range [1, 969] of 969: 801/969 0.116s + 0.068s (eta: 0:00:30)\n",
            "INFO test_engine.py: 286: im_detect: range [1, 969] of 969: 811/969 0.116s + 0.067s (eta: 0:00:29)\n",
            "INFO test_engine.py: 286: im_detect: range [1, 969] of 969: 821/969 0.116s + 0.067s (eta: 0:00:27)\n",
            "INFO test_engine.py: 286: im_detect: range [1, 969] of 969: 831/969 0.116s + 0.067s (eta: 0:00:25)\n",
            "INFO test_engine.py: 286: im_detect: range [1, 969] of 969: 841/969 0.116s + 0.068s (eta: 0:00:23)\n",
            "INFO test_engine.py: 286: im_detect: range [1, 969] of 969: 851/969 0.116s + 0.068s (eta: 0:00:21)\n",
            "INFO test_engine.py: 286: im_detect: range [1, 969] of 969: 861/969 0.116s + 0.067s (eta: 0:00:19)\n",
            "INFO test_engine.py: 286: im_detect: range [1, 969] of 969: 871/969 0.116s + 0.067s (eta: 0:00:17)\n",
            "INFO test_engine.py: 286: im_detect: range [1, 969] of 969: 881/969 0.116s + 0.067s (eta: 0:00:16)\n",
            "INFO test_engine.py: 286: im_detect: range [1, 969] of 969: 891/969 0.116s + 0.067s (eta: 0:00:14)\n",
            "INFO test_engine.py: 286: im_detect: range [1, 969] of 969: 901/969 0.116s + 0.067s (eta: 0:00:12)\n",
            "INFO test_engine.py: 286: im_detect: range [1, 969] of 969: 911/969 0.116s + 0.067s (eta: 0:00:10)\n",
            "INFO test_engine.py: 286: im_detect: range [1, 969] of 969: 921/969 0.116s + 0.067s (eta: 0:00:08)\n",
            "INFO test_engine.py: 286: im_detect: range [1, 969] of 969: 931/969 0.116s + 0.068s (eta: 0:00:06)\n",
            "INFO test_engine.py: 286: im_detect: range [1, 969] of 969: 941/969 0.116s + 0.068s (eta: 0:00:05)\n",
            "INFO test_engine.py: 286: im_detect: range [1, 969] of 969: 951/969 0.116s + 0.068s (eta: 0:00:03)\n",
            "INFO test_engine.py: 286: im_detect: range [1, 969] of 969: 961/969 0.116s + 0.068s (eta: 0:00:01)\n",
            "INFO test_engine.py: 319: Wrote detections to: /content/Detectron_Publayout/test/coco_2014_val/generalized_rcnn/detections.pkl\n",
            "INFO test_engine.py: 161: Total inference time: 193.725s\n",
            "INFO task_evaluation.py:  76: Evaluating detections\n",
            "INFO json_dataset_evaluator.py: 181: Writing bbox results json to: /content/Detectron_Publayout/test/coco_2014_val/generalized_rcnn/bbox_coco_2014_val_results.json\n",
            "Loading and preparing results...\n",
            "DONE (t=0.30s)\n",
            "creating index...\n",
            "index created!\n",
            "Running per image evaluation...\n",
            "Evaluate annotation type *bbox*\n",
            "DONE (t=0.99s).\n",
            "Accumulating evaluation results...\n",
            "DONE (t=0.19s).\n",
            "/usr/local/lib/python3.7/dist-packages/numpy/core/fromnumeric.py:3373: RuntimeWarning: Mean of empty slice.\n",
            "  out=out, **kwargs)\n",
            "/usr/local/lib/python3.7/dist-packages/numpy/core/_methods.py:170: RuntimeWarning: invalid value encountered in double_scalars\n",
            "  ret = ret.dtype.type(ret / rcount)\n",
            "INFO json_dataset_evaluator.py: 241: ~~~~ Mean and per-category AP @ IoU=[0.50,0.95] ~~~~\n",
            "INFO json_dataset_evaluator.py: 242: nan\n",
            "INFO json_dataset_evaluator.py: 250: nan\n",
            "INFO json_dataset_evaluator.py: 250: nan\n",
            "INFO json_dataset_evaluator.py: 250: nan\n",
            "INFO json_dataset_evaluator.py: 250: nan\n",
            "INFO json_dataset_evaluator.py: 250: nan\n",
            "INFO json_dataset_evaluator.py: 251: ~~~~ Summary metrics ~~~~\n",
            " Average Precision  (AP) @[ IoU=0.50:0.95 | area=   all | maxDets=100 ] = -1.000\n",
            " Average Precision  (AP) @[ IoU=0.50      | area=   all | maxDets=100 ] = -1.000\n",
            " Average Precision  (AP) @[ IoU=0.75      | area=   all | maxDets=100 ] = -1.000\n",
            " Average Precision  (AP) @[ IoU=0.50:0.95 | area= small | maxDets=100 ] = -1.000\n",
            " Average Precision  (AP) @[ IoU=0.50:0.95 | area=medium | maxDets=100 ] = -1.000\n",
            " Average Precision  (AP) @[ IoU=0.50:0.95 | area= large | maxDets=100 ] = -1.000\n",
            " Average Recall     (AR) @[ IoU=0.50:0.95 | area=   all | maxDets=  1 ] = -1.000\n",
            " Average Recall     (AR) @[ IoU=0.50:0.95 | area=   all | maxDets= 10 ] = -1.000\n",
            " Average Recall     (AR) @[ IoU=0.50:0.95 | area=   all | maxDets=100 ] = -1.000\n",
            " Average Recall     (AR) @[ IoU=0.50:0.95 | area= small | maxDets=100 ] = -1.000\n",
            " Average Recall     (AR) @[ IoU=0.50:0.95 | area=medium | maxDets=100 ] = -1.000\n",
            " Average Recall     (AR) @[ IoU=0.50:0.95 | area= large | maxDets=100 ] = -1.000\n",
            "INFO json_dataset_evaluator.py: 218: Wrote json eval results to: ./test/coco_2014_val/generalized_rcnn/detection_results.pkl\n",
            "INFO task_evaluation.py:  62: Evaluating bounding boxes is done!\n",
            "INFO task_evaluation.py: 105: Evaluating segmentations\n",
            "INFO json_dataset_evaluator.py:  88: Writing segmentation results json to: /content/Detectron_Publayout/test/coco_2014_val/generalized_rcnn/segmentations_coco_2014_val_results.json\n",
            "Loading and preparing results...\n",
            "DONE (t=1.46s)\n",
            "creating index...\n",
            "index created!\n",
            "Running per image evaluation...\n",
            "Evaluate annotation type *segm*\n",
            "DONE (t=1.68s).\n",
            "Accumulating evaluation results...\n",
            "DONE (t=0.20s).\n",
            "INFO json_dataset_evaluator.py: 241: ~~~~ Mean and per-category AP @ IoU=[0.50,0.95] ~~~~\n",
            "INFO json_dataset_evaluator.py: 242: nan\n",
            "INFO json_dataset_evaluator.py: 250: nan\n",
            "INFO json_dataset_evaluator.py: 250: nan\n",
            "INFO json_dataset_evaluator.py: 250: nan\n",
            "INFO json_dataset_evaluator.py: 250: nan\n",
            "INFO json_dataset_evaluator.py: 250: nan\n",
            "INFO json_dataset_evaluator.py: 251: ~~~~ Summary metrics ~~~~\n",
            " Average Precision  (AP) @[ IoU=0.50:0.95 | area=   all | maxDets=100 ] = -1.000\n",
            " Average Precision  (AP) @[ IoU=0.50      | area=   all | maxDets=100 ] = -1.000\n",
            " Average Precision  (AP) @[ IoU=0.75      | area=   all | maxDets=100 ] = -1.000\n",
            " Average Precision  (AP) @[ IoU=0.50:0.95 | area= small | maxDets=100 ] = -1.000\n",
            " Average Precision  (AP) @[ IoU=0.50:0.95 | area=medium | maxDets=100 ] = -1.000\n",
            " Average Precision  (AP) @[ IoU=0.50:0.95 | area= large | maxDets=100 ] = -1.000\n",
            " Average Recall     (AR) @[ IoU=0.50:0.95 | area=   all | maxDets=  1 ] = -1.000\n",
            " Average Recall     (AR) @[ IoU=0.50:0.95 | area=   all | maxDets= 10 ] = -1.000\n",
            " Average Recall     (AR) @[ IoU=0.50:0.95 | area=   all | maxDets=100 ] = -1.000\n",
            " Average Recall     (AR) @[ IoU=0.50:0.95 | area= small | maxDets=100 ] = -1.000\n",
            " Average Recall     (AR) @[ IoU=0.50:0.95 | area=medium | maxDets=100 ] = -1.000\n",
            " Average Recall     (AR) @[ IoU=0.50:0.95 | area= large | maxDets=100 ] = -1.000\n",
            "INFO json_dataset_evaluator.py: 137: Wrote json eval results to: ./test/coco_2014_val/generalized_rcnn/segmentation_results.pkl\n",
            "INFO task_evaluation.py:  66: Evaluating segmentations is done!\n",
            "INFO task_evaluation.py: 185: copypaste: Dataset: coco_2014_val\n",
            "INFO task_evaluation.py: 187: copypaste: Task: box\n",
            "INFO task_evaluation.py: 190: copypaste: AP,AP50,AP75,APs,APm,APl\n",
            "INFO task_evaluation.py: 191: copypaste: -1.0000,-1.0000,-1.0000,-1.0000,-1.0000,-1.0000\n",
            "INFO task_evaluation.py: 187: copypaste: Task: mask\n",
            "INFO task_evaluation.py: 190: copypaste: AP,AP50,AP75,APs,APm,APl\n",
            "INFO task_evaluation.py: 191: copypaste: -1.0000,-1.0000,-1.0000,-1.0000,-1.0000,-1.0000\n"
          ],
          "name": "stdout"
        }
      ]
    },
    {
      "cell_type": "markdown",
      "metadata": {
        "id": "47ghO_2VJC7E"
      },
      "source": [
        "# Results analysing"
      ]
    },
    {
      "cell_type": "code",
      "metadata": {
        "id": "5sPaXmWWIyEN"
      },
      "source": [
        "import json\n",
        "with open('/content/Detectron_Publayout/test/coco_2014_val/generalized_rcnn/bbox_coco_2014_val_results.json') as f:\n",
        "  results = json.load(f)\n"
      ],
      "execution_count": 32,
      "outputs": []
    },
    {
      "cell_type": "code",
      "metadata": {
        "colab": {
          "base_uri": "https://localhost:8080/"
        },
        "id": "kDNQQfDtJCd4",
        "outputId": "7318fd51-41e9-4b0e-ef49-afe45e90d3c9"
      },
      "source": [
        "print(len(results))"
      ],
      "execution_count": 33,
      "outputs": [
        {
          "output_type": "stream",
          "text": [
            "41258\n"
          ],
          "name": "stdout"
        }
      ]
    },
    {
      "cell_type": "code",
      "metadata": {
        "colab": {
          "base_uri": "https://localhost:8080/"
        },
        "id": "jleYsx9_JceR",
        "outputId": "f43435a3-7c98-4b33-e429-e3ed2b5e6d29"
      },
      "source": [
        "print(results[24])"
      ],
      "execution_count": 34,
      "outputs": [
        {
          "output_type": "stream",
          "text": [
            "{'image_id': 0, 'category_id': 1, 'bbox': [98.22779083251953, 522.1097412109375, 436.1461715698242, 26.9052734375], 'score': 0.029370734468102455}\n"
          ],
          "name": "stdout"
        }
      ]
    },
    {
      "cell_type": "code",
      "metadata": {
        "id": "LYPn-oECJjxL"
      },
      "source": [
        "score = []\n",
        "j = 0\n",
        "for i in range(len(results)):\n",
        "  score.append(results[i]['score'])\n",
        "  if results[i]['score'] > 0.7:\n",
        "    j += 1"
      ],
      "execution_count": 35,
      "outputs": []
    },
    {
      "cell_type": "code",
      "metadata": {
        "id": "Pdt6nsQiMma5"
      },
      "source": [
        "score = []\n",
        "j = 0\n",
        "for i in range(len(results)):\n",
        "  score.append(results[i]['category_id'])\n",
        "  if results[i]['category_id'] == 4 and results[i]['score'] > 0.7:\n",
        "    j += 1"
      ],
      "execution_count": 36,
      "outputs": []
    },
    {
      "cell_type": "code",
      "metadata": {
        "colab": {
          "base_uri": "https://localhost:8080/"
        },
        "id": "4lPnTKi_MhtB",
        "outputId": "ec1bcee2-1300-427d-eb35-94b0e55aca9c"
      },
      "source": [
        "print(j)"
      ],
      "execution_count": 37,
      "outputs": [
        {
          "output_type": "stream",
          "text": [
            "168\n"
          ],
          "name": "stdout"
        }
      ]
    }
  ]
}
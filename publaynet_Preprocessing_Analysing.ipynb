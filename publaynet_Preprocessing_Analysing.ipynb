{
  "nbformat": 4,
  "nbformat_minor": 0,
  "metadata": {
    "colab": {
      "name": "publaynet_Preprocessing_Analysing.ipynb",
      "private_outputs": true,
      "provenance": [],
      "toc_visible": true
    },
    "kernelspec": {
      "name": "python3",
      "display_name": "Python 3"
    },
    "language_info": {
      "name": "python"
    }
  },
  "cells": [
    {
      "cell_type": "markdown",
      "metadata": {
        "id": "ZilxkkOVEV1y"
      },
      "source": [
        "# Pre-processing"
      ]
    },
    {
      "cell_type": "markdown",
      "metadata": {
        "id": "nsnjr1UJrqjO"
      },
      "source": [
        "## PDF Spliting"
      ]
    },
    {
      "cell_type": "code",
      "metadata": {
        "id": "IpkO8s1sEcD8"
      },
      "source": [
        "!pip install PyMuPDF"
      ],
      "execution_count": null,
      "outputs": []
    },
    {
      "cell_type": "code",
      "metadata": {
        "id": "LGmCnqWze9fV"
      },
      "source": [
        "import os\n",
        "import fitz\n",
        "\n",
        "def pyMuPDF_fitz(pdfPath, imagePath):\n",
        "    global count\n",
        "    # print(\"imagePath=\" + pdfPath)\n",
        "    pdfDoc = fitz.open(pdfPath)\n",
        "    for pg in range(pdfDoc.pageCount):\n",
        "        page = pdfDoc[pg]\n",
        "        rotate = int(0)\n",
        "        zoom_x = 1\n",
        "        zoom_y = 1\n",
        "        mat = fitz.Matrix(zoom_x, zoom_y).preRotate(rotate)\n",
        "        try:\n",
        "            pix = page.getPixmap(matrix=mat, alpha=False)\n",
        "        except:\n",
        "            print(\"imagePath=\" + pdfPath)\n",
        "            continue\n",
        "        if not os.path.exists(imagePath):\n",
        "            os.makedirs(imagePath)\n",
        "\n",
        "        pix.writePNG(imagePath + '/' + 'images_%s.png' % count)\n",
        "        count +=1\n",
        "\n",
        "pdfPath = '/content/drive/MyDrive/tabel_extraction/samples'\n",
        "imagePath = '/content/drive/MyDrive/tabel_extraction'\n",
        "count = 0\n",
        "for name in os.listdir(pdfPath):\n",
        "  pyMuPDF_fitz(os.path.join(pdfPath,name), imagePath)\n"
      ],
      "execution_count": null,
      "outputs": []
    },
    {
      "cell_type": "markdown",
      "metadata": {
        "id": "UCZl9uPUsH9w"
      },
      "source": [
        "## json file generation"
      ]
    },
    {
      "cell_type": "code",
      "metadata": {
        "id": "o2sUgZDrqGtv"
      },
      "source": [
        "from PIL import Image, ImageDraw, ImageFont"
      ],
      "execution_count": null,
      "outputs": []
    },
    {
      "cell_type": "code",
      "metadata": {
        "id": "thc4pstIq8Z0"
      },
      "source": [
        "import os \n",
        "img_name_list = os.listdir('/content/drive/MyDrive/tabel_extraction')"
      ],
      "execution_count": null,
      "outputs": []
    },
    {
      "cell_type": "code",
      "metadata": {
        "id": "uYejjRPm1B--"
      },
      "source": [
        "print(test_json['images'][0].keys())"
      ],
      "execution_count": null,
      "outputs": []
    },
    {
      "cell_type": "code",
      "metadata": {
        "id": "-wVIUNIxsnqr"
      },
      "source": [
        "new_json = {}\n",
        "new_json['images'] = []\n",
        "for i,name in enumerate(img_name_list):\n",
        "  img_dict = {}\n",
        "  path = '/content/drive/MyDrive/tabel_extraction/'+name\n",
        "  image = Image.open(path)\n",
        "  img_dict['file_name'] = name\n",
        "  img_dict['width'] = image.size[0]\n",
        "  img_dict['height'] = image.size[1]\n",
        "  img_dict['id'] = i\n",
        "  new_json['images'].append(img_dict)"
      ],
      "execution_count": null,
      "outputs": []
    },
    {
      "cell_type": "code",
      "metadata": {
        "id": "WuUTAxId4Lc7"
      },
      "source": [
        "new_json['annotations'] = []\n",
        "new_json['categories'] = test_json['categories']\n",
        "new_json['type'] = test_json['type']"
      ],
      "execution_count": null,
      "outputs": []
    },
    {
      "cell_type": "code",
      "metadata": {
        "id": "ZiSdTa225f33"
      },
      "source": [
        "import json\n",
        "import os \n",
        "file_name = 'test.json' \n",
        "with open(file_name,'w') as file_object:\n",
        "    json.dump(new_json,file_object)\n"
      ],
      "execution_count": null,
      "outputs": []
    },
    {
      "cell_type": "markdown",
      "metadata": {
        "id": "bqSILCwFgLmj"
      },
      "source": [
        "# Result analysis"
      ]
    },
    {
      "cell_type": "code",
      "metadata": {
        "id": "xCxrYeFIgWf2"
      },
      "source": [
        "from google.colab import drive\n",
        "drive.mount('/content/drive')"
      ],
      "execution_count": null,
      "outputs": []
    },
    {
      "cell_type": "code",
      "metadata": {
        "id": "0Hb0VvSmD8k6"
      },
      "source": [
        "import json\n",
        "with open('/content/drive/MyDrive/financial_table_extraction/bbox_coco_2014_val_results.json') as f:\n",
        "  results = json.load(f)\n"
      ],
      "execution_count": null,
      "outputs": []
    },
    {
      "cell_type": "code",
      "metadata": {
        "id": "B8f0w3WtEekF"
      },
      "source": [
        "print(results[0])"
      ],
      "execution_count": null,
      "outputs": []
    },
    {
      "cell_type": "code",
      "metadata": {
        "id": "JSqpZzx_FHvg"
      },
      "source": [
        "page = []\n",
        "for i in range(len(results)):\n",
        "  if str(results[i]['image_id']) == str(100) and results[i]['score']>0.7:\n",
        "    page.append(results[i])"
      ],
      "execution_count": null,
      "outputs": []
    },
    {
      "cell_type": "code",
      "metadata": {
        "id": "_1c6G9dbFh29"
      },
      "source": [
        "for i in page:\n",
        "  print(i)"
      ],
      "execution_count": null,
      "outputs": []
    },
    {
      "cell_type": "code",
      "metadata": {
        "id": "qhK9lgjZElY2"
      },
      "source": [
        "import os \n",
        "img_list = os.listdir('/content/drive/MyDrive/tabel_extraction')\n",
        "name = img_list[546]"
      ],
      "execution_count": null,
      "outputs": []
    },
    {
      "cell_type": "code",
      "metadata": {
        "id": "0uvinWBFERrN"
      },
      "source": [
        "from PIL import Image, ImageDraw, ImageFont\n",
        "path = '/content/drive/MyDrive/tabel_extraction/'+name\n",
        "image = Image.open(path)\n",
        "image = image.convert(\"RGB\")\n",
        "image"
      ],
      "execution_count": null,
      "outputs": []
    },
    {
      "cell_type": "code",
      "metadata": {
        "id": "ZTfaby1H0dkd"
      },
      "source": [
        "# 10, 0, 876, 546"
      ],
      "execution_count": null,
      "outputs": []
    },
    {
      "cell_type": "code",
      "metadata": {
        "id": "VnFF9bfREG9v"
      },
      "source": [
        "draw = ImageDraw.Draw(image, \"RGBA\")\n",
        "\n",
        "font = ImageFont.load_default()\n",
        "\n",
        "label2color = {'1':'blue', '2':'blue', '3':'orange', '4':'green', '5':'violet'}\n",
        "\n",
        "for annotation in page:\n",
        "  label = str(annotation['category_id'])\n",
        "  a,b,c,d = annotation['bbox']\n",
        "  general_box = [int(a)-9,int(b)-9,int(c)+int(a),int(d)+int(b)]\n",
        "  draw.rectangle(general_box,outline=label2color[label], width=2)\n",
        "\n",
        "image"
      ],
      "execution_count": null,
      "outputs": []
    },
    {
      "cell_type": "code",
      "metadata": {
        "id": "cTVaq5P2hrET"
      },
      "source": [
        ""
      ],
      "execution_count": null,
      "outputs": []
    }
  ]
}